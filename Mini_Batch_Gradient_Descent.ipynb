{
  "nbformat": 4,
  "nbformat_minor": 0,
  "metadata": {
    "colab": {
      "provenance": [],
      "authorship_tag": "ABX9TyOFLdnSe5jb9hCJiV7A8zLX",
      "include_colab_link": true
    },
    "kernelspec": {
      "name": "python3",
      "display_name": "Python 3"
    },
    "language_info": {
      "name": "python"
    }
  },
  "cells": [
    {
      "cell_type": "markdown",
      "metadata": {
        "id": "view-in-github",
        "colab_type": "text"
      },
      "source": [
        "<a href=\"https://colab.research.google.com/github/jeevanshrestha/Machine-Learning/blob/main/Mini_Batch_Gradient_Descent.ipynb\" target=\"_parent\"><img src=\"https://colab.research.google.com/assets/colab-badge.svg\" alt=\"Open In Colab\"/></a>"
      ]
    },
    {
      "cell_type": "code",
      "execution_count": 1,
      "metadata": {
        "id": "JotLqcHxhLDv"
      },
      "outputs": [],
      "source": [
        "import numpy as np\n",
        "import pandas as pd\n",
        "import matplotlib.pyplot as plt\n",
        "\n",
        "from sklearn.linear_model import LinearRegression\n",
        "from sklearn.datasets import load_diabetes\n",
        "from sklearn.metrics import r2_score\n",
        "from sklearn.model_selection import train_test_split"
      ]
    },
    {
      "cell_type": "code",
      "source": [
        "X,y = load_diabetes(return_X_y=True)"
      ],
      "metadata": {
        "id": "TXSde14HhQJ9"
      },
      "execution_count": 2,
      "outputs": []
    },
    {
      "cell_type": "code",
      "source": [
        "X.shape"
      ],
      "metadata": {
        "colab": {
          "base_uri": "https://localhost:8080/"
        },
        "id": "GeEiftQphSof",
        "outputId": "1fa7b8eb-46a1-4040-d52c-e2cbfdf3a9b4"
      },
      "execution_count": 3,
      "outputs": [
        {
          "output_type": "execute_result",
          "data": {
            "text/plain": [
              "(442, 10)"
            ]
          },
          "metadata": {},
          "execution_count": 3
        }
      ]
    },
    {
      "cell_type": "code",
      "source": [
        "y.shape"
      ],
      "metadata": {
        "colab": {
          "base_uri": "https://localhost:8080/"
        },
        "id": "KeOX-Ev7hUGi",
        "outputId": "c6963fe7-1468-4d14-c14d-0e23672eb96e"
      },
      "execution_count": 4,
      "outputs": [
        {
          "output_type": "execute_result",
          "data": {
            "text/plain": [
              "(442,)"
            ]
          },
          "metadata": {},
          "execution_count": 4
        }
      ]
    },
    {
      "cell_type": "code",
      "source": [
        "X_train,X_test,y_train,y_test = train_test_split(X,y,test_size=0.2,random_state=2)"
      ],
      "metadata": {
        "id": "k8CCb4efhU8r"
      },
      "execution_count": 9,
      "outputs": []
    },
    {
      "cell_type": "code",
      "source": [
        "import numpy as np\n",
        "import matplotlib.pyplot as plt\n",
        "import random\n",
        "\n",
        "class MBGDRegressor:\n",
        "    def __init__(self, learning_rate=0.01, epochs=100, batch_size=10):\n",
        "        self.coef_ = None\n",
        "        self.intercept_ = None\n",
        "        self.learning_rate = learning_rate\n",
        "        self.epochs = epochs\n",
        "        self.loss_history = []\n",
        "        self.batch_size = batch_size\n",
        "\n",
        "    def fit(self, X, y):\n",
        "        y = y.reshape(-1)  # Ensure y is 1D\n",
        "        n_samples, n_features = X.shape\n",
        "\n",
        "        # Initialize coefficients and intercept\n",
        "        self.coef_ = np.ones(n_features)\n",
        "        self.intercept_ = 0\n",
        "\n",
        "        for epoch in range(self.epochs):\n",
        "            total_loss = 0\n",
        "\n",
        "            for j in range(int(n_samples / self.batch_size)):\n",
        "                # Random index selection\n",
        "                lr = self.learning_rate  #(epoch * n_samples + j) * 0.1\n",
        "                index = random.sample(range(n_samples), self.batch_size)\n",
        "\n",
        "                x_sample = X[index]\n",
        "                y_sample = y[index]\n",
        "\n",
        "                # Predict the output for this sample\n",
        "                y_pred = np.dot(x_sample, self.coef_) + self.intercept_\n",
        "\n",
        "                # Compute gradients\n",
        "                dw = -(1 / self.batch_size) * np.dot((y_sample - y_pred), x_sample)  # Gradient w.r.t weights\n",
        "                db = -(1 / self.batch_size) * np.sum(y_sample - y_pred)  # Gradient w.r.t bias\n",
        "\n",
        "                # Update weights and bias\n",
        "                self.coef_ -= lr * dw\n",
        "                self.intercept_ -= lr * db\n",
        "\n",
        "                # Accumulate the loss for this sample\n",
        "                total_loss += np.sum((y_sample - y_pred) ** 2)\n",
        "\n",
        "            # Average loss for the epoch\n",
        "            epoch_loss = total_loss / n_samples\n",
        "            self.loss_history.append(epoch_loss)\n",
        "\n",
        "            if epoch % 10 == 0:  # Print every 10 epochs\n",
        "                print(f\"Epoch {epoch}/{self.epochs}, Loss: {epoch_loss:.4f}\")\n",
        "\n",
        "    def predict(self, X):\n",
        "        return np.dot(X, self.coef_) + self.intercept_\n",
        "\n",
        "    def get_params(self):\n",
        "        return self.coef_, self.intercept_\n",
        "\n",
        "    def get_loss_history(self):\n",
        "        return self.loss_history\n",
        "\n",
        "    def learning_rate(self, t):\n",
        "        t0, t1 = 5, 50\n",
        "        return t0 / (t + t1)\n",
        "\n",
        "    def plot_loss(self):\n",
        "        plt.plot(range(1, len(self.loss_history) + 1), self.loss_history)\n",
        "        plt.xlabel('Epochs')\n",
        "        plt.ylabel('Loss')\n",
        "        plt.title('Loss during Training')\n",
        "        plt.show()\n"
      ],
      "metadata": {
        "id": "rzAgH6rOhWoy"
      },
      "execution_count": 96,
      "outputs": []
    },
    {
      "cell_type": "code",
      "source": [
        "model = MBGDRegressor(learning_rate=0.01, epochs= 3000, batch_size =10)"
      ],
      "metadata": {
        "id": "aWpcnYd2i-F8"
      },
      "execution_count": 111,
      "outputs": []
    },
    {
      "cell_type": "code",
      "source": [
        "model.fit(X_train, y_train)"
      ],
      "metadata": {
        "colab": {
          "base_uri": "https://localhost:8080/"
        },
        "id": "jrE8_-EMjGZI",
        "outputId": "ce596e79-cec4-4ab7-b63f-8681d6757b40"
      },
      "execution_count": 112,
      "outputs": [
        {
          "output_type": "stream",
          "name": "stdout",
          "text": [
            "Epoch 0/3000, Loss: 21568.6613\n",
            "Epoch 10/3000, Loss: 6306.3602\n",
            "Epoch 20/3000, Loss: 5840.3428\n",
            "Epoch 30/3000, Loss: 6091.4645\n",
            "Epoch 40/3000, Loss: 5783.6592\n",
            "Epoch 50/3000, Loss: 5639.1275\n",
            "Epoch 60/3000, Loss: 5510.1707\n",
            "Epoch 70/3000, Loss: 5220.3169\n",
            "Epoch 80/3000, Loss: 4720.7089\n",
            "Epoch 90/3000, Loss: 5047.5829\n",
            "Epoch 100/3000, Loss: 4419.4652\n",
            "Epoch 110/3000, Loss: 5111.4607\n",
            "Epoch 120/3000, Loss: 4837.6358\n",
            "Epoch 130/3000, Loss: 4545.7352\n",
            "Epoch 140/3000, Loss: 3983.4476\n",
            "Epoch 150/3000, Loss: 5069.2548\n",
            "Epoch 160/3000, Loss: 4529.3080\n",
            "Epoch 170/3000, Loss: 4205.3069\n",
            "Epoch 180/3000, Loss: 4571.6927\n",
            "Epoch 190/3000, Loss: 4720.7821\n",
            "Epoch 200/3000, Loss: 4195.1572\n",
            "Epoch 210/3000, Loss: 3986.4294\n",
            "Epoch 220/3000, Loss: 3998.2374\n",
            "Epoch 230/3000, Loss: 4237.2735\n",
            "Epoch 240/3000, Loss: 3983.3638\n",
            "Epoch 250/3000, Loss: 3731.3070\n",
            "Epoch 260/3000, Loss: 3437.5197\n",
            "Epoch 270/3000, Loss: 3953.4003\n",
            "Epoch 280/3000, Loss: 4034.7620\n",
            "Epoch 290/3000, Loss: 3856.7910\n",
            "Epoch 300/3000, Loss: 3867.7434\n",
            "Epoch 310/3000, Loss: 3757.5261\n",
            "Epoch 320/3000, Loss: 3721.8923\n",
            "Epoch 330/3000, Loss: 3888.9057\n",
            "Epoch 340/3000, Loss: 3559.5494\n",
            "Epoch 350/3000, Loss: 4192.2168\n",
            "Epoch 360/3000, Loss: 3614.1508\n",
            "Epoch 370/3000, Loss: 3851.5680\n",
            "Epoch 380/3000, Loss: 3921.8056\n",
            "Epoch 390/3000, Loss: 3565.5625\n",
            "Epoch 400/3000, Loss: 3809.1028\n",
            "Epoch 410/3000, Loss: 3935.9596\n",
            "Epoch 420/3000, Loss: 3478.6085\n",
            "Epoch 430/3000, Loss: 3564.1348\n",
            "Epoch 440/3000, Loss: 4135.4493\n",
            "Epoch 450/3000, Loss: 3693.5070\n",
            "Epoch 460/3000, Loss: 3338.0483\n",
            "Epoch 470/3000, Loss: 3791.0346\n",
            "Epoch 480/3000, Loss: 3182.4288\n",
            "Epoch 490/3000, Loss: 3776.6635\n",
            "Epoch 500/3000, Loss: 3534.1108\n",
            "Epoch 510/3000, Loss: 3312.3033\n",
            "Epoch 520/3000, Loss: 3508.2130\n",
            "Epoch 530/3000, Loss: 3527.4762\n",
            "Epoch 540/3000, Loss: 3968.3805\n",
            "Epoch 550/3000, Loss: 3157.6314\n",
            "Epoch 560/3000, Loss: 3360.8832\n",
            "Epoch 570/3000, Loss: 2923.2552\n",
            "Epoch 580/3000, Loss: 3397.3904\n",
            "Epoch 590/3000, Loss: 3176.3875\n",
            "Epoch 600/3000, Loss: 3335.1815\n",
            "Epoch 610/3000, Loss: 3169.9750\n",
            "Epoch 620/3000, Loss: 3315.8371\n",
            "Epoch 630/3000, Loss: 3131.0037\n",
            "Epoch 640/3000, Loss: 3282.4460\n",
            "Epoch 650/3000, Loss: 3384.5279\n",
            "Epoch 660/3000, Loss: 3347.9212\n",
            "Epoch 670/3000, Loss: 3630.8872\n",
            "Epoch 680/3000, Loss: 3721.3265\n",
            "Epoch 690/3000, Loss: 3472.7369\n",
            "Epoch 700/3000, Loss: 3435.7588\n",
            "Epoch 710/3000, Loss: 3202.8763\n",
            "Epoch 720/3000, Loss: 3127.3235\n",
            "Epoch 730/3000, Loss: 3173.8932\n",
            "Epoch 740/3000, Loss: 3695.7776\n",
            "Epoch 750/3000, Loss: 3400.9883\n",
            "Epoch 760/3000, Loss: 3019.0749\n",
            "Epoch 770/3000, Loss: 3022.8462\n",
            "Epoch 780/3000, Loss: 2678.5891\n",
            "Epoch 790/3000, Loss: 3137.3328\n",
            "Epoch 800/3000, Loss: 3303.4093\n",
            "Epoch 810/3000, Loss: 3105.4084\n",
            "Epoch 820/3000, Loss: 3363.1303\n",
            "Epoch 830/3000, Loss: 3327.8700\n",
            "Epoch 840/3000, Loss: 3145.4257\n",
            "Epoch 850/3000, Loss: 3036.5413\n",
            "Epoch 860/3000, Loss: 3064.7157\n",
            "Epoch 870/3000, Loss: 3066.5746\n",
            "Epoch 880/3000, Loss: 2910.4179\n",
            "Epoch 890/3000, Loss: 3036.7865\n",
            "Epoch 900/3000, Loss: 3128.4002\n",
            "Epoch 910/3000, Loss: 3072.9829\n",
            "Epoch 920/3000, Loss: 2940.7090\n",
            "Epoch 930/3000, Loss: 3383.8466\n",
            "Epoch 940/3000, Loss: 2931.7545\n",
            "Epoch 950/3000, Loss: 3077.0077\n",
            "Epoch 960/3000, Loss: 2794.1308\n",
            "Epoch 970/3000, Loss: 3299.9712\n",
            "Epoch 980/3000, Loss: 3311.2897\n",
            "Epoch 990/3000, Loss: 3334.5880\n",
            "Epoch 1000/3000, Loss: 2866.6296\n",
            "Epoch 1010/3000, Loss: 3126.0363\n",
            "Epoch 1020/3000, Loss: 2809.4308\n",
            "Epoch 1030/3000, Loss: 2964.6598\n",
            "Epoch 1040/3000, Loss: 3513.7408\n",
            "Epoch 1050/3000, Loss: 3359.0395\n",
            "Epoch 1060/3000, Loss: 3075.9921\n",
            "Epoch 1070/3000, Loss: 3200.4431\n",
            "Epoch 1080/3000, Loss: 2875.0597\n",
            "Epoch 1090/3000, Loss: 2887.9853\n",
            "Epoch 1100/3000, Loss: 3093.2512\n",
            "Epoch 1110/3000, Loss: 3018.3343\n",
            "Epoch 1120/3000, Loss: 3084.8468\n",
            "Epoch 1130/3000, Loss: 2872.6051\n",
            "Epoch 1140/3000, Loss: 3010.5714\n",
            "Epoch 1150/3000, Loss: 3189.0886\n",
            "Epoch 1160/3000, Loss: 3157.3057\n",
            "Epoch 1170/3000, Loss: 2709.4047\n",
            "Epoch 1180/3000, Loss: 3068.7307\n",
            "Epoch 1190/3000, Loss: 3335.2843\n",
            "Epoch 1200/3000, Loss: 2997.6157\n",
            "Epoch 1210/3000, Loss: 3327.9180\n",
            "Epoch 1220/3000, Loss: 3110.3391\n",
            "Epoch 1230/3000, Loss: 3175.3862\n",
            "Epoch 1240/3000, Loss: 2842.7198\n",
            "Epoch 1250/3000, Loss: 2972.2014\n",
            "Epoch 1260/3000, Loss: 2746.9775\n",
            "Epoch 1270/3000, Loss: 3242.5010\n",
            "Epoch 1280/3000, Loss: 3058.9893\n",
            "Epoch 1290/3000, Loss: 3019.3988\n",
            "Epoch 1300/3000, Loss: 2844.6839\n",
            "Epoch 1310/3000, Loss: 3082.6965\n",
            "Epoch 1320/3000, Loss: 2872.9854\n",
            "Epoch 1330/3000, Loss: 3109.4462\n",
            "Epoch 1340/3000, Loss: 2820.0193\n",
            "Epoch 1350/3000, Loss: 2805.3145\n",
            "Epoch 1360/3000, Loss: 2925.6966\n",
            "Epoch 1370/3000, Loss: 2846.6769\n",
            "Epoch 1380/3000, Loss: 2809.6892\n",
            "Epoch 1390/3000, Loss: 2751.8095\n",
            "Epoch 1400/3000, Loss: 2728.8096\n",
            "Epoch 1410/3000, Loss: 3034.0253\n",
            "Epoch 1420/3000, Loss: 3148.0073\n",
            "Epoch 1430/3000, Loss: 2955.6819\n",
            "Epoch 1440/3000, Loss: 2818.5226\n",
            "Epoch 1450/3000, Loss: 2821.9212\n",
            "Epoch 1460/3000, Loss: 2644.5835\n",
            "Epoch 1470/3000, Loss: 2681.1477\n",
            "Epoch 1480/3000, Loss: 2940.3441\n",
            "Epoch 1490/3000, Loss: 2853.5004\n",
            "Epoch 1500/3000, Loss: 2787.1457\n",
            "Epoch 1510/3000, Loss: 2783.4806\n",
            "Epoch 1520/3000, Loss: 2755.8350\n",
            "Epoch 1530/3000, Loss: 2946.6983\n",
            "Epoch 1540/3000, Loss: 2876.4852\n",
            "Epoch 1550/3000, Loss: 3086.5800\n",
            "Epoch 1560/3000, Loss: 2906.7708\n",
            "Epoch 1570/3000, Loss: 3012.1310\n",
            "Epoch 1580/3000, Loss: 2734.7887\n",
            "Epoch 1590/3000, Loss: 2870.6158\n",
            "Epoch 1600/3000, Loss: 2712.1970\n",
            "Epoch 1610/3000, Loss: 2951.8406\n",
            "Epoch 1620/3000, Loss: 2353.8797\n",
            "Epoch 1630/3000, Loss: 3069.7738\n",
            "Epoch 1640/3000, Loss: 2774.8769\n",
            "Epoch 1650/3000, Loss: 3186.2125\n",
            "Epoch 1660/3000, Loss: 2895.0299\n",
            "Epoch 1670/3000, Loss: 2518.9931\n",
            "Epoch 1680/3000, Loss: 2457.4210\n",
            "Epoch 1690/3000, Loss: 2998.7688\n",
            "Epoch 1700/3000, Loss: 2689.1399\n",
            "Epoch 1710/3000, Loss: 2935.8306\n",
            "Epoch 1720/3000, Loss: 2878.2379\n",
            "Epoch 1730/3000, Loss: 2791.7951\n",
            "Epoch 1740/3000, Loss: 2872.2367\n",
            "Epoch 1750/3000, Loss: 2849.0043\n",
            "Epoch 1760/3000, Loss: 2736.9853\n",
            "Epoch 1770/3000, Loss: 3120.5035\n",
            "Epoch 1780/3000, Loss: 2723.9211\n",
            "Epoch 1790/3000, Loss: 2881.2914\n",
            "Epoch 1800/3000, Loss: 2997.5896\n",
            "Epoch 1810/3000, Loss: 2822.9871\n",
            "Epoch 1820/3000, Loss: 3037.1537\n",
            "Epoch 1830/3000, Loss: 2682.6053\n",
            "Epoch 1840/3000, Loss: 2593.8463\n",
            "Epoch 1850/3000, Loss: 3007.6723\n",
            "Epoch 1860/3000, Loss: 3115.7805\n",
            "Epoch 1870/3000, Loss: 2607.5537\n",
            "Epoch 1880/3000, Loss: 2951.3009\n",
            "Epoch 1890/3000, Loss: 2917.6294\n",
            "Epoch 1900/3000, Loss: 2781.2799\n",
            "Epoch 1910/3000, Loss: 3120.0615\n",
            "Epoch 1920/3000, Loss: 2504.4226\n",
            "Epoch 1930/3000, Loss: 3069.3850\n",
            "Epoch 1940/3000, Loss: 2931.1774\n",
            "Epoch 1950/3000, Loss: 2964.5381\n",
            "Epoch 1960/3000, Loss: 2933.8928\n",
            "Epoch 1970/3000, Loss: 2557.4513\n",
            "Epoch 1980/3000, Loss: 3425.2767\n",
            "Epoch 1990/3000, Loss: 3150.8005\n",
            "Epoch 2000/3000, Loss: 2855.7547\n",
            "Epoch 2010/3000, Loss: 2886.3082\n",
            "Epoch 2020/3000, Loss: 2936.0123\n",
            "Epoch 2030/3000, Loss: 2716.5239\n",
            "Epoch 2040/3000, Loss: 2986.3309\n",
            "Epoch 2050/3000, Loss: 3022.7285\n",
            "Epoch 2060/3000, Loss: 2654.1675\n",
            "Epoch 2070/3000, Loss: 2844.7164\n",
            "Epoch 2080/3000, Loss: 2826.3222\n",
            "Epoch 2090/3000, Loss: 2835.4664\n",
            "Epoch 2100/3000, Loss: 3024.1537\n",
            "Epoch 2110/3000, Loss: 2880.4212\n",
            "Epoch 2120/3000, Loss: 3035.5630\n",
            "Epoch 2130/3000, Loss: 3001.2399\n",
            "Epoch 2140/3000, Loss: 2670.9479\n",
            "Epoch 2150/3000, Loss: 3136.4140\n",
            "Epoch 2160/3000, Loss: 3312.6631\n",
            "Epoch 2170/3000, Loss: 3122.4318\n",
            "Epoch 2180/3000, Loss: 2779.3212\n",
            "Epoch 2190/3000, Loss: 2722.2496\n",
            "Epoch 2200/3000, Loss: 2822.8462\n",
            "Epoch 2210/3000, Loss: 2956.6300\n",
            "Epoch 2220/3000, Loss: 2799.6018\n",
            "Epoch 2230/3000, Loss: 2709.4585\n",
            "Epoch 2240/3000, Loss: 2724.2620\n",
            "Epoch 2250/3000, Loss: 2539.8979\n",
            "Epoch 2260/3000, Loss: 2566.4970\n",
            "Epoch 2270/3000, Loss: 3026.9869\n",
            "Epoch 2280/3000, Loss: 2651.4717\n",
            "Epoch 2290/3000, Loss: 2654.9717\n",
            "Epoch 2300/3000, Loss: 3204.6295\n",
            "Epoch 2310/3000, Loss: 2804.5375\n",
            "Epoch 2320/3000, Loss: 3056.3686\n",
            "Epoch 2330/3000, Loss: 2557.2007\n",
            "Epoch 2340/3000, Loss: 2738.7177\n",
            "Epoch 2350/3000, Loss: 2690.3573\n",
            "Epoch 2360/3000, Loss: 2889.0176\n",
            "Epoch 2370/3000, Loss: 3081.9402\n",
            "Epoch 2380/3000, Loss: 2809.9912\n",
            "Epoch 2390/3000, Loss: 2995.4147\n",
            "Epoch 2400/3000, Loss: 2595.3273\n",
            "Epoch 2410/3000, Loss: 2765.8303\n",
            "Epoch 2420/3000, Loss: 2896.5473\n",
            "Epoch 2430/3000, Loss: 2854.6381\n",
            "Epoch 2440/3000, Loss: 2435.0985\n",
            "Epoch 2450/3000, Loss: 2637.9750\n",
            "Epoch 2460/3000, Loss: 3116.8520\n",
            "Epoch 2470/3000, Loss: 2947.0488\n",
            "Epoch 2480/3000, Loss: 2489.6871\n",
            "Epoch 2490/3000, Loss: 2632.1455\n",
            "Epoch 2500/3000, Loss: 2612.1752\n",
            "Epoch 2510/3000, Loss: 2473.8003\n",
            "Epoch 2520/3000, Loss: 2510.3701\n",
            "Epoch 2530/3000, Loss: 2762.7442\n",
            "Epoch 2540/3000, Loss: 2720.9559\n",
            "Epoch 2550/3000, Loss: 2646.1448\n",
            "Epoch 2560/3000, Loss: 3068.7275\n",
            "Epoch 2570/3000, Loss: 2909.4947\n",
            "Epoch 2580/3000, Loss: 3034.3679\n",
            "Epoch 2590/3000, Loss: 2888.1487\n",
            "Epoch 2600/3000, Loss: 2570.5377\n",
            "Epoch 2610/3000, Loss: 2532.5242\n",
            "Epoch 2620/3000, Loss: 3100.8104\n",
            "Epoch 2630/3000, Loss: 2712.3633\n",
            "Epoch 2640/3000, Loss: 3094.0342\n",
            "Epoch 2650/3000, Loss: 2961.3034\n",
            "Epoch 2660/3000, Loss: 2954.8177\n",
            "Epoch 2670/3000, Loss: 2506.1619\n",
            "Epoch 2680/3000, Loss: 2862.5720\n",
            "Epoch 2690/3000, Loss: 2808.1185\n",
            "Epoch 2700/3000, Loss: 2782.8780\n",
            "Epoch 2710/3000, Loss: 2844.1908\n",
            "Epoch 2720/3000, Loss: 2737.3529\n",
            "Epoch 2730/3000, Loss: 3024.0265\n",
            "Epoch 2740/3000, Loss: 3529.6385\n",
            "Epoch 2750/3000, Loss: 2984.1922\n",
            "Epoch 2760/3000, Loss: 2850.1590\n",
            "Epoch 2770/3000, Loss: 2540.5204\n",
            "Epoch 2780/3000, Loss: 2701.9403\n",
            "Epoch 2790/3000, Loss: 2956.8471\n",
            "Epoch 2800/3000, Loss: 3046.3996\n",
            "Epoch 2810/3000, Loss: 2594.6251\n",
            "Epoch 2820/3000, Loss: 2584.0495\n",
            "Epoch 2830/3000, Loss: 2621.0150\n",
            "Epoch 2840/3000, Loss: 2957.8938\n",
            "Epoch 2850/3000, Loss: 3494.8536\n",
            "Epoch 2860/3000, Loss: 3062.5447\n",
            "Epoch 2870/3000, Loss: 2852.1835\n",
            "Epoch 2880/3000, Loss: 2898.8909\n",
            "Epoch 2890/3000, Loss: 2835.5835\n",
            "Epoch 2900/3000, Loss: 2835.5807\n",
            "Epoch 2910/3000, Loss: 3298.0393\n",
            "Epoch 2920/3000, Loss: 2692.9015\n",
            "Epoch 2930/3000, Loss: 2955.3849\n",
            "Epoch 2940/3000, Loss: 2950.6953\n",
            "Epoch 2950/3000, Loss: 2623.5404\n",
            "Epoch 2960/3000, Loss: 2796.9119\n",
            "Epoch 2970/3000, Loss: 2804.4419\n",
            "Epoch 2980/3000, Loss: 2803.8755\n",
            "Epoch 2990/3000, Loss: 2681.6219\n"
          ]
        }
      ]
    },
    {
      "cell_type": "code",
      "source": [
        "y_pred = model.predict(X_test)"
      ],
      "metadata": {
        "id": "xA2icXuBjJBj"
      },
      "execution_count": 113,
      "outputs": []
    },
    {
      "cell_type": "code",
      "source": [
        "r2_score(y_test, y_pred)"
      ],
      "metadata": {
        "colab": {
          "base_uri": "https://localhost:8080/"
        },
        "id": "VGr2CqO_jkzb",
        "outputId": "b8bd14a3-7eeb-4c59-9424-098473b951b1"
      },
      "execution_count": 114,
      "outputs": [
        {
          "output_type": "execute_result",
          "data": {
            "text/plain": [
              "0.45319057854658784"
            ]
          },
          "metadata": {},
          "execution_count": 114
        }
      ]
    },
    {
      "cell_type": "code",
      "source": [
        "model.plot_loss()"
      ],
      "metadata": {
        "colab": {
          "base_uri": "https://localhost:8080/",
          "height": 472
        },
        "id": "XFZXJlpwjnOf",
        "outputId": "7acbbe03-de09-4583-8c26-06f9e4664eda"
      },
      "execution_count": 115,
      "outputs": [
        {
          "output_type": "display_data",
          "data": {
            "text/plain": [
              "<Figure size 640x480 with 1 Axes>"
            ],
            "image/png": "[encoded data removed]"
          },
          "metadata": {}
        }
      ]
    },
    {
      "cell_type": "code",
      "source": [
        "model.get_params()"
      ],
      "metadata": {
        "colab": {
          "base_uri": "https://localhost:8080/"
        },
        "id": "AwT6I20Qj1Ie",
        "outputId": "ac666305-a900-44e3-f8b0-3b1fbefbeff6"
      },
      "execution_count": 116,
      "outputs": [
        {
          "output_type": "execute_result",
          "data": {
            "text/plain": [
              "(array([  10.39060628, -176.55255293,  495.78730748,  326.63598016,\n",
              "         -40.92139834, -117.94594222, -194.42321446,  102.58400353,\n",
              "         456.58160992,   94.55282368]),\n",
              " 151.96250396192954)"
            ]
          },
          "metadata": {},
          "execution_count": 116
        }
      ]
    },
    {
      "cell_type": "code",
      "source": [],
      "metadata": {
        "id": "lA6BUaF8j3GL"
      },
      "execution_count": null,
      "outputs": []
    }
  ]
}