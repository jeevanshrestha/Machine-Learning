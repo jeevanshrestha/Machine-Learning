{
  "nbformat": 4,
  "nbformat_minor": 0,
  "metadata": {
    "colab": {
      "provenance": [],
      "authorship_tag": "ABX9TyP+HfQiOqr0300cTrgjldhR",
      "include_colab_link": true
    },
    "kernelspec": {
      "name": "python3",
      "display_name": "Python 3"
    },
    "language_info": {
      "name": "python"
    }
  },
  "cells": [
    {
      "cell_type": "markdown",
      "metadata": {
        "id": "view-in-github",
        "colab_type": "text"
      },
      "source": [
        "<a href=\"https://colab.research.google.com/github/jeevanshrestha/Machine-Learning/blob/main/Gradient_Descent_MLR.ipynb\" target=\"_parent\"><img src=\"https://colab.research.google.com/assets/colab-badge.svg\" alt=\"Open In Colab\"/></a>"
      ]
    },
    {
      "cell_type": "code",
      "execution_count": 1,
      "metadata": {
        "id": "BYwX4a6V4vgD"
      },
      "outputs": [],
      "source": [
        "import numpy as np\n",
        "import matplotlib.pyplot as plt\n",
        "\n",
        "from sklearn.datasets import load_diabetes\n",
        "from sklearn.model_selection import train_test_split\n",
        "from sklearn.metrics import r2_score"
      ]
    },
    {
      "cell_type": "code",
      "source": [
        "X,y = load_diabetes(return_X_y=True)"
      ],
      "metadata": {
        "id": "2mPBCh7t40Lr"
      },
      "execution_count": 2,
      "outputs": []
    },
    {
      "cell_type": "code",
      "source": [
        "X_train,X_test,y_train,y_test = train_test_split(X,y,test_size=0.2,random_state=2)"
      ],
      "metadata": {
        "id": "R0TubREt41UI"
      },
      "execution_count": 3,
      "outputs": []
    },
    {
      "cell_type": "code",
      "source": [
        "import numpy as np\n",
        "import matplotlib.pyplot as plt\n",
        "class GradientDescentMLR:\n",
        "    def __init__(self, learning_rate=0.01, iterations=1000):\n",
        "\n",
        "        self.learning_rate = learning_rate\n",
        "        self.iterations = iterations\n",
        "        self.weights = None  # To store coefficients\n",
        "        self.bias = None     # To store bias term\n",
        "        self.loss_history = []  # To store loss values per iteration\n",
        "\n",
        "    def compute_loss(self, X, y):\n",
        "\n",
        "        n = X.shape[0]\n",
        "        y_pred = np.dot(X, self.weights) + self.bias\n",
        "        loss = (1 / (2 * n)) * np.sum((y - y_pred) ** 2)\n",
        "        return loss\n",
        "\n",
        "    def fit(self, X, y):\n",
        "\n",
        "        n_samples, n_features = X.shape\n",
        "\n",
        "        # Initialize weights and bias to zeros\n",
        "        self.weights = np.ones(n_features)\n",
        "        self.bias = 0\n",
        "\n",
        "        # Gradient descent iterations\n",
        "        for i in range(self.iterations):\n",
        "            # Predict the outputs\n",
        "            y_pred = np.dot(X, self.weights) + self.bias\n",
        "\n",
        "            # Compute gradients\n",
        "            dw = -(1 / n_samples) * np.dot(X.T, (y - y_pred))  # Gradient w.r.t weights\n",
        "            db = -(1 / n_samples) * np.sum(y - y_pred)        # Gradient w.r.t bias\n",
        "\n",
        "            # Update weights and bias\n",
        "            self.weights -= self.learning_rate * dw\n",
        "            self.bias -= self.learning_rate * db\n",
        "\n",
        "            # Compute and store the loss\n",
        "            loss = self.compute_loss(X, y)\n",
        "            self.loss_history.append(loss)\n",
        "\n",
        "            # Print loss for monitoring (optional)\n",
        "            if i % 100 == 0:\n",
        "                print(f\"Iteration {i+1}/{self.iterations}, Loss: {loss:.4f}\")\n",
        "\n",
        "    def predict(self, X):\n",
        "        return np.dot(X, self.weights) + self.bias\n",
        "\n",
        "    def get_params(self):\n",
        "        return self.weights, self.bias\n",
        "\n",
        "    def get_loss_history(self):\n",
        "        return self.loss_history\n",
        "    def plot_loss(self):\n",
        "        plt.plot(range(self.iterations), self.loss_history)\n",
        "        plt.xlabel('Epochs')\n",
        "        plt.ylabel('Loss')\n",
        "        plt.title('Loss during Training')\n",
        "        plt.show()"
      ],
      "metadata": {
        "id": "UpZ4Mwmm43v4"
      },
      "execution_count": 4,
      "outputs": []
    },
    {
      "cell_type": "code",
      "source": [
        "# Initialize and train the model\n",
        "model = GradientDescentMLR(learning_rate=0.01, iterations=1000)\n",
        "model.fit(X_train, y_train)\n",
        "\n",
        "# Predict new values\n",
        "predictions = model.predict(X_test)\n",
        "print(\"Predictions:\", predictions)\n",
        "\n",
        "# Output the learned weights and bias\n",
        "weights, bias = model.get_params()\n",
        "print(\"Weights:\", weights)\n",
        "print(\"Bias:\", bias)"
      ],
      "metadata": {
        "colab": {
          "base_uri": "https://localhost:8080/"
        },
        "id": "tnDRA4Rp5Bko",
        "outputId": "bc718251-5ff5-4d0d-9474-0a01d296f1ac"
      },
      "execution_count": 5,
      "outputs": [
        {
          "output_type": "stream",
          "name": "stdout",
          "text": [
            "Iteration 1/1000, Loss: 14093.8688\n",
            "Iteration 101/1000, Loss: 4467.6326\n",
            "Iteration 201/1000, Loss: 3161.1027\n",
            "Iteration 301/1000, Loss: 2969.4570\n",
            "Iteration 401/1000, Loss: 2927.4402\n",
            "Iteration 501/1000, Loss: 2905.7295\n",
            "Iteration 601/1000, Loss: 2886.9948\n",
            "Iteration 701/1000, Loss: 2868.9097\n",
            "Iteration 801/1000, Loss: 2851.1583\n",
            "Iteration 901/1000, Loss: 2833.6941\n",
            "Predictions: [151.20316485 154.11029548 150.40890677 146.91814231 157.67041527\n",
            " 156.95885047 145.75709111 146.75680934 144.7172267  153.5336306\n",
            " 152.99551428 152.28518401 153.96790705 152.02752088 157.18622495\n",
            " 145.85424323 152.55443976 148.32077772 150.09573718 149.97719717\n",
            " 147.14401033 156.34202027 153.43066836 153.66796502 148.21003783\n",
            " 156.80519335 154.10319275 149.7521626  142.92236719 159.79145293\n",
            " 158.2688928  148.06331267 143.83372899 147.97864596 154.7904941\n",
            " 152.23503511 152.62974213 155.30081057 147.37126168 157.84202576\n",
            " 148.41116087 148.74419148 153.81602399 153.80951459 151.81775131\n",
            " 150.22856943 152.89774777 160.74465662 148.23536044 156.24165279\n",
            " 157.02347971 147.23697196 148.93564927 152.55500743 154.08316154\n",
            " 148.41593827 153.43414581 145.22845254 151.23044972 148.66495276\n",
            " 151.82130015 153.46083635 147.62817784 153.87012126 151.79516755\n",
            " 153.11204346 149.28048745 153.66563507 147.23318503 151.27699482\n",
            " 154.15864996 152.78077737 147.36291983 149.89848271 149.10360704\n",
            " 147.28387399 144.64886846 145.76675236 152.40872212 145.40858963\n",
            " 145.61772757 147.01992765 150.49043232 159.42509698 154.47963803\n",
            " 148.80405304 157.16415005 152.09985306 148.54455487]\n",
            "Weights: [  8.8942978    2.4532973   21.80529344  17.29060565   8.30509432\n",
            "   6.55143013 -12.1731869   14.79698376  21.77212199  13.58099658]\n",
            "Bias: 150.60059363797097\n"
          ]
        }
      ]
    },
    {
      "cell_type": "code",
      "source": [
        "r2_score(y_test, predictions)"
      ],
      "metadata": {
        "colab": {
          "base_uri": "https://localhost:8080/"
        },
        "id": "4T7TyYTx5DNw",
        "outputId": "ed4972d8-6a5b-4c67-b500-4bcecb057f8f"
      },
      "execution_count": 6,
      "outputs": [
        {
          "output_type": "execute_result",
          "data": {
            "text/plain": [
              "0.051367056941237665"
            ]
          },
          "metadata": {},
          "execution_count": 6
        }
      ]
    },
    {
      "cell_type": "code",
      "source": [
        "model.plot_loss()"
      ],
      "metadata": {
        "colab": {
          "base_uri": "https://localhost:8080/",
          "height": 472
        },
        "id": "p8vvO1Pn5FGg",
        "outputId": "56c59381-d843-43f3-9d8b-c35eb796a8d4"
      },
      "execution_count": null,
      "outputs": [
        {
          "output_type": "display_data",
          "data": {
            "text/plain": [
              "<Figure size 640x480 with 1 Axes>"
            ],
            "image/png": "[encoded data removed]"
          },
          "metadata": {}
        }
      ]
    },
    {
      "cell_type": "code",
      "source": [],
      "metadata": {
        "id": "ONxVzel65GVw"
      },
      "execution_count": null,
      "outputs": []
    }
  ]
}