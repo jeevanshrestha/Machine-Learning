{
  "nbformat": 4,
  "nbformat_minor": 0,
  "metadata": {
    "colab": {
      "provenance": [],
      "authorship_tag": "ABX9TyM7YEc3v3qLJTBPHE2d4XrX",
      "include_colab_link": true
    },
    "kernelspec": {
      "name": "python3",
      "display_name": "Python 3"
    },
    "language_info": {
      "name": "python"
    }
  },
  "cells": [
    {
      "cell_type": "markdown",
      "metadata": {
        "id": "view-in-github",
        "colab_type": "text"
      },
      "source": [
        "<a href=\"https://colab.research.google.com/github/jeevanshrestha/Machine-Learning/blob/main/Stochastic_Gradient_Descent_MLR.ipynb\" target=\"_parent\"><img src=\"https://colab.research.google.com/assets/colab-badge.svg\" alt=\"Open In Colab\"/></a>"
      ]
    },
    {
      "cell_type": "code",
      "execution_count": 10,
      "metadata": {
        "id": "-o3AfW_eKL6-"
      },
      "outputs": [],
      "source": [
        "import numpy as np\n",
        "import pandas as pd\n",
        "import matplotlib.pyplot as plt\n",
        "\n",
        "from sklearn.linear_model import LinearRegression\n",
        "from sklearn.datasets import load_diabetes\n",
        "from sklearn.metrics import r2_score\n",
        "from sklearn.model_selection import train_test_split"
      ]
    },
    {
      "cell_type": "code",
      "source": [
        "X,y = load_diabetes(return_X_y=True)"
      ],
      "metadata": {
        "id": "fhyvM0CUKakR"
      },
      "execution_count": 6,
      "outputs": []
    },
    {
      "cell_type": "code",
      "source": [
        "X.shape"
      ],
      "metadata": {
        "colab": {
          "base_uri": "https://localhost:8080/"
        },
        "id": "gUNIdd4aK5ly",
        "outputId": "ded60893-bea7-4c7c-bd02-8cb6d798a71c"
      },
      "execution_count": 7,
      "outputs": [
        {
          "output_type": "execute_result",
          "data": {
            "text/plain": [
              "(442, 10)"
            ]
          },
          "metadata": {},
          "execution_count": 7
        }
      ]
    },
    {
      "cell_type": "code",
      "source": [
        "y.shape"
      ],
      "metadata": {
        "colab": {
          "base_uri": "https://localhost:8080/"
        },
        "id": "jclUR_4YK7ZP",
        "outputId": "75c5f486-8dc8-4a03-fcef-ca5a2b3415e4"
      },
      "execution_count": 8,
      "outputs": [
        {
          "output_type": "execute_result",
          "data": {
            "text/plain": [
              "(442,)"
            ]
          },
          "metadata": {},
          "execution_count": 8
        }
      ]
    },
    {
      "cell_type": "code",
      "source": [
        "X_train,X_test,y_train,y_test = train_test_split(X,y,test_size=0.2,random_state=2)"
      ],
      "metadata": {
        "id": "ZyVqlhk2K773"
      },
      "execution_count": 9,
      "outputs": []
    },
    {
      "cell_type": "code",
      "source": [
        "reg = LinearRegression()\n",
        "reg.fit(X_train,y_train)"
      ],
      "metadata": {
        "colab": {
          "base_uri": "https://localhost:8080/",
          "height": 80
        },
        "id": "7xdlngGdK-E0",
        "outputId": "616eeb98-44ce-4af2-8de6-c2072c6e5e03"
      },
      "execution_count": 11,
      "outputs": [
        {
          "output_type": "execute_result",
          "data": {
            "text/plain": [
              "LinearRegression()"
            ],
            "text/html": [
              "<style>#sk-container-id-1 {\n",
              "  /* Definition of color scheme common for light and dark mode */\n",
              "  --sklearn-color-text: black;\n",
              "  --sklearn-color-line: gray;\n",
              "  /* Definition of color scheme for unfitted estimators */\n",
              "  --sklearn-color-unfitted-level-0: #fff5e6;\n",
              "  --sklearn-color-unfitted-level-1: #f6e4d2;\n",
              "  --sklearn-color-unfitted-level-2: #ffe0b3;\n",
              "  --sklearn-color-unfitted-level-3: chocolate;\n",
              "  /* Definition of color scheme for fitted estimators */\n",
              "  --sklearn-color-fitted-level-0: #f0f8ff;\n",
              "  --sklearn-color-fitted-level-1: #d4ebff;\n",
              "  --sklearn-color-fitted-level-2: #b3dbfd;\n",
              "  --sklearn-color-fitted-level-3: cornflowerblue;\n",
              "\n",
              "  /* Specific color for light theme */\n",
              "  --sklearn-color-text-on-default-background: var(--sg-text-color, var(--theme-code-foreground, var(--jp-content-font-color1, black)));\n",
              "  --sklearn-color-background: var(--sg-background-color, var(--theme-background, var(--jp-layout-color0, white)));\n",
              "  --sklearn-color-border-box: var(--sg-text-color, var(--theme-code-foreground, var(--jp-content-font-color1, black)));\n",
              "  --sklearn-color-icon: #696969;\n",
              "\n",
              "  @media (prefers-color-scheme: dark) {\n",
              "    /* Redefinition of color scheme for dark theme */\n",
              "    --sklearn-color-text-on-default-background: var(--sg-text-color, var(--theme-code-foreground, var(--jp-content-font-color1, white)));\n",
              "    --sklearn-color-background: var(--sg-background-color, var(--theme-background, var(--jp-layout-color0, #111)));\n",
              "    --sklearn-color-border-box: var(--sg-text-color, var(--theme-code-foreground, var(--jp-content-font-color1, white)));\n",
              "    --sklearn-color-icon: #878787;\n",
              "  }\n",
              "}\n",
              "\n",
              "#sk-container-id-1 {\n",
              "  color: var(--sklearn-color-text);\n",
              "}\n",
              "\n",
              "#sk-container-id-1 pre {\n",
              "  padding: 0;\n",
              "}\n",
              "\n",
              "#sk-container-id-1 input.sk-hidden--visually {\n",
              "  border: 0;\n",
              "  clip: rect(1px 1px 1px 1px);\n",
              "  clip: rect(1px, 1px, 1px, 1px);\n",
              "  height: 1px;\n",
              "  margin: -1px;\n",
              "  overflow: hidden;\n",
              "  padding: 0;\n",
              "  position: absolute;\n",
              "  width: 1px;\n",
              "}\n",
              "\n",
              "#sk-container-id-1 div.sk-dashed-wrapped {\n",
              "  border: 1px dashed var(--sklearn-color-line);\n",
              "  margin: 0 0.4em 0.5em 0.4em;\n",
              "  box-sizing: border-box;\n",
              "  padding-bottom: 0.4em;\n",
              "  background-color: var(--sklearn-color-background);\n",
              "}\n",
              "\n",
              "#sk-container-id-1 div.sk-container {\n",
              "  /* jupyter's `normalize.less` sets `[hidden] { display: none; }`\n",
              "     but bootstrap.min.css set `[hidden] { display: none !important; }`\n",
              "     so we also need the `!important` here to be able to override the\n",
              "     default hidden behavior on the sphinx rendered scikit-learn.org.\n",
              "     See: https://github.com/scikit-learn/scikit-learn/issues/21755 */\n",
              "  display: inline-block !important;\n",
              "  position: relative;\n",
              "}\n",
              "\n",
              "#sk-container-id-1 div.sk-text-repr-fallback {\n",
              "  display: none;\n",
              "}\n",
              "\n",
              "div.sk-parallel-item,\n",
              "div.sk-serial,\n",
              "div.sk-item {\n",
              "  /* draw centered vertical line to link estimators */\n",
              "  background-image: linear-gradient(var(--sklearn-color-text-on-default-background), var(--sklearn-color-text-on-default-background));\n",
              "  background-size: 2px 100%;\n",
              "  background-repeat: no-repeat;\n",
              "  background-position: center center;\n",
              "}\n",
              "\n",
              "/* Parallel-specific style estimator block */\n",
              "\n",
              "#sk-container-id-1 div.sk-parallel-item::after {\n",
              "  content: \"\";\n",
              "  width: 100%;\n",
              "  border-bottom: 2px solid var(--sklearn-color-text-on-default-background);\n",
              "  flex-grow: 1;\n",
              "}\n",
              "\n",
              "#sk-container-id-1 div.sk-parallel {\n",
              "  display: flex;\n",
              "  align-items: stretch;\n",
              "  justify-content: center;\n",
              "  background-color: var(--sklearn-color-background);\n",
              "  position: relative;\n",
              "}\n",
              "\n",
              "#sk-container-id-1 div.sk-parallel-item {\n",
              "  display: flex;\n",
              "  flex-direction: column;\n",
              "}\n",
              "\n",
              "#sk-container-id-1 div.sk-parallel-item:first-child::after {\n",
              "  align-self: flex-end;\n",
              "  width: 50%;\n",
              "}\n",
              "\n",
              "#sk-container-id-1 div.sk-parallel-item:last-child::after {\n",
              "  align-self: flex-start;\n",
              "  width: 50%;\n",
              "}\n",
              "\n",
              "#sk-container-id-1 div.sk-parallel-item:only-child::after {\n",
              "  width: 0;\n",
              "}\n",
              "\n",
              "/* Serial-specific style estimator block */\n",
              "\n",
              "#sk-container-id-1 div.sk-serial {\n",
              "  display: flex;\n",
              "  flex-direction: column;\n",
              "  align-items: center;\n",
              "  background-color: var(--sklearn-color-background);\n",
              "  padding-right: 1em;\n",
              "  padding-left: 1em;\n",
              "}\n",
              "\n",
              "\n",
              "/* Toggleable style: style used for estimator/Pipeline/ColumnTransformer box that is\n",
              "clickable and can be expanded/collapsed.\n",
              "- Pipeline and ColumnTransformer use this feature and define the default style\n",
              "- Estimators will overwrite some part of the style using the `sk-estimator` class\n",
              "*/\n",
              "\n",
              "/* Pipeline and ColumnTransformer style (default) */\n",
              "\n",
              "#sk-container-id-1 div.sk-toggleable {\n",
              "  /* Default theme specific background. It is overwritten whether we have a\n",
              "  specific estimator or a Pipeline/ColumnTransformer */\n",
              "  background-color: var(--sklearn-color-background);\n",
              "}\n",
              "\n",
              "/* Toggleable label */\n",
              "#sk-container-id-1 label.sk-toggleable__label {\n",
              "  cursor: pointer;\n",
              "  display: block;\n",
              "  width: 100%;\n",
              "  margin-bottom: 0;\n",
              "  padding: 0.5em;\n",
              "  box-sizing: border-box;\n",
              "  text-align: center;\n",
              "}\n",
              "\n",
              "#sk-container-id-1 label.sk-toggleable__label-arrow:before {\n",
              "  /* Arrow on the left of the label */\n",
              "  content: \"▸\";\n",
              "  float: left;\n",
              "  margin-right: 0.25em;\n",
              "  color: var(--sklearn-color-icon);\n",
              "}\n",
              "\n",
              "#sk-container-id-1 label.sk-toggleable__label-arrow:hover:before {\n",
              "  color: var(--sklearn-color-text);\n",
              "}\n",
              "\n",
              "/* Toggleable content - dropdown */\n",
              "\n",
              "#sk-container-id-1 div.sk-toggleable__content {\n",
              "  max-height: 0;\n",
              "  max-width: 0;\n",
              "  overflow: hidden;\n",
              "  text-align: left;\n",
              "  /* unfitted */\n",
              "  background-color: var(--sklearn-color-unfitted-level-0);\n",
              "}\n",
              "\n",
              "#sk-container-id-1 div.sk-toggleable__content.fitted {\n",
              "  /* fitted */\n",
              "  background-color: var(--sklearn-color-fitted-level-0);\n",
              "}\n",
              "\n",
              "#sk-container-id-1 div.sk-toggleable__content pre {\n",
              "  margin: 0.2em;\n",
              "  border-radius: 0.25em;\n",
              "  color: var(--sklearn-color-text);\n",
              "  /* unfitted */\n",
              "  background-color: var(--sklearn-color-unfitted-level-0);\n",
              "}\n",
              "\n",
              "#sk-container-id-1 div.sk-toggleable__content.fitted pre {\n",
              "  /* unfitted */\n",
              "  background-color: var(--sklearn-color-fitted-level-0);\n",
              "}\n",
              "\n",
              "#sk-container-id-1 input.sk-toggleable__control:checked~div.sk-toggleable__content {\n",
              "  /* Expand drop-down */\n",
              "  max-height: 200px;\n",
              "  max-width: 100%;\n",
              "  overflow: auto;\n",
              "}\n",
              "\n",
              "#sk-container-id-1 input.sk-toggleable__control:checked~label.sk-toggleable__label-arrow:before {\n",
              "  content: \"▾\";\n",
              "}\n",
              "\n",
              "/* Pipeline/ColumnTransformer-specific style */\n",
              "\n",
              "#sk-container-id-1 div.sk-label input.sk-toggleable__control:checked~label.sk-toggleable__label {\n",
              "  color: var(--sklearn-color-text);\n",
              "  background-color: var(--sklearn-color-unfitted-level-2);\n",
              "}\n",
              "\n",
              "#sk-container-id-1 div.sk-label.fitted input.sk-toggleable__control:checked~label.sk-toggleable__label {\n",
              "  background-color: var(--sklearn-color-fitted-level-2);\n",
              "}\n",
              "\n",
              "/* Estimator-specific style */\n",
              "\n",
              "/* Colorize estimator box */\n",
              "#sk-container-id-1 div.sk-estimator input.sk-toggleable__control:checked~label.sk-toggleable__label {\n",
              "  /* unfitted */\n",
              "  background-color: var(--sklearn-color-unfitted-level-2);\n",
              "}\n",
              "\n",
              "#sk-container-id-1 div.sk-estimator.fitted input.sk-toggleable__control:checked~label.sk-toggleable__label {\n",
              "  /* fitted */\n",
              "  background-color: var(--sklearn-color-fitted-level-2);\n",
              "}\n",
              "\n",
              "#sk-container-id-1 div.sk-label label.sk-toggleable__label,\n",
              "#sk-container-id-1 div.sk-label label {\n",
              "  /* The background is the default theme color */\n",
              "  color: var(--sklearn-color-text-on-default-background);\n",
              "}\n",
              "\n",
              "/* On hover, darken the color of the background */\n",
              "#sk-container-id-1 div.sk-label:hover label.sk-toggleable__label {\n",
              "  color: var(--sklearn-color-text);\n",
              "  background-color: var(--sklearn-color-unfitted-level-2);\n",
              "}\n",
              "\n",
              "/* Label box, darken color on hover, fitted */\n",
              "#sk-container-id-1 div.sk-label.fitted:hover label.sk-toggleable__label.fitted {\n",
              "  color: var(--sklearn-color-text);\n",
              "  background-color: var(--sklearn-color-fitted-level-2);\n",
              "}\n",
              "\n",
              "/* Estimator label */\n",
              "\n",
              "#sk-container-id-1 div.sk-label label {\n",
              "  font-family: monospace;\n",
              "  font-weight: bold;\n",
              "  display: inline-block;\n",
              "  line-height: 1.2em;\n",
              "}\n",
              "\n",
              "#sk-container-id-1 div.sk-label-container {\n",
              "  text-align: center;\n",
              "}\n",
              "\n",
              "/* Estimator-specific */\n",
              "#sk-container-id-1 div.sk-estimator {\n",
              "  font-family: monospace;\n",
              "  border: 1px dotted var(--sklearn-color-border-box);\n",
              "  border-radius: 0.25em;\n",
              "  box-sizing: border-box;\n",
              "  margin-bottom: 0.5em;\n",
              "  /* unfitted */\n",
              "  background-color: var(--sklearn-color-unfitted-level-0);\n",
              "}\n",
              "\n",
              "#sk-container-id-1 div.sk-estimator.fitted {\n",
              "  /* fitted */\n",
              "  background-color: var(--sklearn-color-fitted-level-0);\n",
              "}\n",
              "\n",
              "/* on hover */\n",
              "#sk-container-id-1 div.sk-estimator:hover {\n",
              "  /* unfitted */\n",
              "  background-color: var(--sklearn-color-unfitted-level-2);\n",
              "}\n",
              "\n",
              "#sk-container-id-1 div.sk-estimator.fitted:hover {\n",
              "  /* fitted */\n",
              "  background-color: var(--sklearn-color-fitted-level-2);\n",
              "}\n",
              "\n",
              "/* Specification for estimator info (e.g. \"i\" and \"?\") */\n",
              "\n",
              "/* Common style for \"i\" and \"?\" */\n",
              "\n",
              ".sk-estimator-doc-link,\n",
              "a:link.sk-estimator-doc-link,\n",
              "a:visited.sk-estimator-doc-link {\n",
              "  float: right;\n",
              "  font-size: smaller;\n",
              "  line-height: 1em;\n",
              "  font-family: monospace;\n",
              "  background-color: var(--sklearn-color-background);\n",
              "  border-radius: 1em;\n",
              "  height: 1em;\n",
              "  width: 1em;\n",
              "  text-decoration: none !important;\n",
              "  margin-left: 1ex;\n",
              "  /* unfitted */\n",
              "  border: var(--sklearn-color-unfitted-level-1) 1pt solid;\n",
              "  color: var(--sklearn-color-unfitted-level-1);\n",
              "}\n",
              "\n",
              ".sk-estimator-doc-link.fitted,\n",
              "a:link.sk-estimator-doc-link.fitted,\n",
              "a:visited.sk-estimator-doc-link.fitted {\n",
              "  /* fitted */\n",
              "  border: var(--sklearn-color-fitted-level-1) 1pt solid;\n",
              "  color: var(--sklearn-color-fitted-level-1);\n",
              "}\n",
              "\n",
              "/* On hover */\n",
              "div.sk-estimator:hover .sk-estimator-doc-link:hover,\n",
              ".sk-estimator-doc-link:hover,\n",
              "div.sk-label-container:hover .sk-estimator-doc-link:hover,\n",
              ".sk-estimator-doc-link:hover {\n",
              "  /* unfitted */\n",
              "  background-color: var(--sklearn-color-unfitted-level-3);\n",
              "  color: var(--sklearn-color-background);\n",
              "  text-decoration: none;\n",
              "}\n",
              "\n",
              "div.sk-estimator.fitted:hover .sk-estimator-doc-link.fitted:hover,\n",
              ".sk-estimator-doc-link.fitted:hover,\n",
              "div.sk-label-container:hover .sk-estimator-doc-link.fitted:hover,\n",
              ".sk-estimator-doc-link.fitted:hover {\n",
              "  /* fitted */\n",
              "  background-color: var(--sklearn-color-fitted-level-3);\n",
              "  color: var(--sklearn-color-background);\n",
              "  text-decoration: none;\n",
              "}\n",
              "\n",
              "/* Span, style for the box shown on hovering the info icon */\n",
              ".sk-estimator-doc-link span {\n",
              "  display: none;\n",
              "  z-index: 9999;\n",
              "  position: relative;\n",
              "  font-weight: normal;\n",
              "  right: .2ex;\n",
              "  padding: .5ex;\n",
              "  margin: .5ex;\n",
              "  width: min-content;\n",
              "  min-width: 20ex;\n",
              "  max-width: 50ex;\n",
              "  color: var(--sklearn-color-text);\n",
              "  box-shadow: 2pt 2pt 4pt #999;\n",
              "  /* unfitted */\n",
              "  background: var(--sklearn-color-unfitted-level-0);\n",
              "  border: .5pt solid var(--sklearn-color-unfitted-level-3);\n",
              "}\n",
              "\n",
              ".sk-estimator-doc-link.fitted span {\n",
              "  /* fitted */\n",
              "  background: var(--sklearn-color-fitted-level-0);\n",
              "  border: var(--sklearn-color-fitted-level-3);\n",
              "}\n",
              "\n",
              ".sk-estimator-doc-link:hover span {\n",
              "  display: block;\n",
              "}\n",
              "\n",
              "/* \"?\"-specific style due to the `<a>` HTML tag */\n",
              "\n",
              "#sk-container-id-1 a.estimator_doc_link {\n",
              "  float: right;\n",
              "  font-size: 1rem;\n",
              "  line-height: 1em;\n",
              "  font-family: monospace;\n",
              "  background-color: var(--sklearn-color-background);\n",
              "  border-radius: 1rem;\n",
              "  height: 1rem;\n",
              "  width: 1rem;\n",
              "  text-decoration: none;\n",
              "  /* unfitted */\n",
              "  color: var(--sklearn-color-unfitted-level-1);\n",
              "  border: var(--sklearn-color-unfitted-level-1) 1pt solid;\n",
              "}\n",
              "\n",
              "#sk-container-id-1 a.estimator_doc_link.fitted {\n",
              "  /* fitted */\n",
              "  border: var(--sklearn-color-fitted-level-1) 1pt solid;\n",
              "  color: var(--sklearn-color-fitted-level-1);\n",
              "}\n",
              "\n",
              "/* On hover */\n",
              "#sk-container-id-1 a.estimator_doc_link:hover {\n",
              "  /* unfitted */\n",
              "  background-color: var(--sklearn-color-unfitted-level-3);\n",
              "  color: var(--sklearn-color-background);\n",
              "  text-decoration: none;\n",
              "}\n",
              "\n",
              "#sk-container-id-1 a.estimator_doc_link.fitted:hover {\n",
              "  /* fitted */\n",
              "  background-color: var(--sklearn-color-fitted-level-3);\n",
              "}\n",
              "</style><div id=\"sk-container-id-1\" class=\"sk-top-container\"><div class=\"sk-text-repr-fallback\"><pre>LinearRegression()</pre><b>In a Jupyter environment, please rerun this cell to show the HTML representation or trust the notebook. <br />On GitHub, the HTML representation is unable to render, please try loading this page with nbviewer.org.</b></div><div class=\"sk-container\" hidden><div class=\"sk-item\"><div class=\"sk-estimator fitted sk-toggleable\"><input class=\"sk-toggleable__control sk-hidden--visually\" id=\"sk-estimator-id-1\" type=\"checkbox\" checked><label for=\"sk-estimator-id-1\" class=\"sk-toggleable__label fitted sk-toggleable__label-arrow fitted\">&nbsp;&nbsp;LinearRegression<a class=\"sk-estimator-doc-link fitted\" rel=\"noreferrer\" target=\"_blank\" href=\"https://scikit-learn.org/1.5/modules/generated/sklearn.linear_model.LinearRegression.html\">?<span>Documentation for LinearRegression</span></a><span class=\"sk-estimator-doc-link fitted\">i<span>Fitted</span></span></label><div class=\"sk-toggleable__content fitted\"><pre>LinearRegression()</pre></div> </div></div></div></div>"
            ]
          },
          "metadata": {},
          "execution_count": 11
        }
      ]
    },
    {
      "cell_type": "code",
      "source": [
        "reg.coef_"
      ],
      "metadata": {
        "colab": {
          "base_uri": "https://localhost:8080/"
        },
        "id": "PQ5KaRDmLCMq",
        "outputId": "6f89b80c-4bcc-42df-cf44-ecb42703f951"
      },
      "execution_count": 12,
      "outputs": [
        {
          "output_type": "execute_result",
          "data": {
            "text/plain": [
              "array([  -9.15865318, -205.45432163,  516.69374454,  340.61999905,\n",
              "       -895.5520019 ,  561.22067904,  153.89310954,  126.73139688,\n",
              "        861.12700152,   52.42112238])"
            ]
          },
          "metadata": {},
          "execution_count": 12
        }
      ]
    },
    {
      "cell_type": "code",
      "source": [
        "reg.intercept_"
      ],
      "metadata": {
        "colab": {
          "base_uri": "https://localhost:8080/"
        },
        "id": "TBBpG5smLFAU",
        "outputId": "9ca9dcd0-9e1e-44b5-de5f-a7aa63a9637c"
      },
      "execution_count": 13,
      "outputs": [
        {
          "output_type": "execute_result",
          "data": {
            "text/plain": [
              "151.88331005254167"
            ]
          },
          "metadata": {},
          "execution_count": 13
        }
      ]
    },
    {
      "cell_type": "code",
      "source": [
        "y_pred = reg.predict(X_test)"
      ],
      "metadata": {
        "id": "DHoCSAbELGMb"
      },
      "execution_count": 14,
      "outputs": []
    },
    {
      "cell_type": "code",
      "source": [
        "r2_score(y_test, y_pred)"
      ],
      "metadata": {
        "colab": {
          "base_uri": "https://localhost:8080/"
        },
        "id": "Ez2yuAE8LNQu",
        "outputId": "f2c5c36f-3df1-41e6-c4fd-c815bb12a1ed"
      },
      "execution_count": 15,
      "outputs": [
        {
          "output_type": "execute_result",
          "data": {
            "text/plain": [
              "0.4399338661568968"
            ]
          },
          "metadata": {},
          "execution_count": 15
        }
      ]
    },
    {
      "cell_type": "code",
      "source": [
        "import numpy as np\n",
        "import matplotlib.pyplot as plt\n",
        "\n",
        "class SGDRegressor:\n",
        "    def __init__(self, learning_rate=0.01, epochs=100):\n",
        "        self.coef_ = None\n",
        "        self.intercept_ = None\n",
        "        self.lr = learning_rate\n",
        "        self.epochs = epochs\n",
        "        self.loss_history = []\n",
        "\n",
        "    def fit(self, X, y):\n",
        "        y = y.reshape(-1)  # Ensure y is 1D\n",
        "        n_samples, n_features = X.shape\n",
        "\n",
        "        # Initialize coefficients and intercept\n",
        "        self.coef_ = np.ones(n_features)\n",
        "        self.intercept_ = 0\n",
        "\n",
        "        for epoch in range(self.epochs):\n",
        "            total_loss = 0\n",
        "\n",
        "            for j in range(n_samples):\n",
        "                # Random index selection\n",
        "\n",
        "                lr = self.learning_rate( epoch * n_samples + j)*0.1\n",
        "                index = np.random.randint(0, n_samples)\n",
        "                x_sample = X[index]\n",
        "                y_sample = y[index]\n",
        "\n",
        "                # Predict the output for this sample\n",
        "                y_pred = np.dot(x_sample, self.coef_) + self.intercept_\n",
        "\n",
        "                # Compute gradients\n",
        "                dw = -2 * (y_sample - y_pred) * x_sample  # Gradient w.r.t weights\n",
        "                db = -2 * (y_sample - y_pred)            # Gradient w.r.t bias\n",
        "\n",
        "                # Update weights and bias\n",
        "                self.coef_ -=  lr * dw\n",
        "                self.intercept_ -=  lr * db\n",
        "\n",
        "                # Accumulate the loss for this sample\n",
        "                total_loss += (y_sample - y_pred) ** 2\n",
        "\n",
        "            # Average loss for the epoch\n",
        "            epoch_loss = total_loss / n_samples\n",
        "            self.loss_history.append(epoch_loss)\n",
        "\n",
        "            if epoch % 10 == 0:  # Print every 10 epochs\n",
        "                print(f\"Epoch {epoch }/{self.epochs}, Loss: {epoch_loss:.4f}\")\n",
        "\n",
        "    def predict(self, X):\n",
        "        return np.dot(X, self.coef_) + self.intercept_\n",
        "\n",
        "    def get_params(self):\n",
        "        return self.coef_, self.intercept_\n",
        "\n",
        "    def get_loss_history(self):\n",
        "        return self.loss_history\n",
        "\n",
        "    def learning_rate(self, t):\n",
        "      t0,t1 = 5, 50\n",
        "      return (t0/(t+t1))\n",
        "\n",
        "    def plot_loss(self):\n",
        "        plt.plot(range(1, len(self.loss_history) + 1), self.loss_history)\n",
        "        plt.xlabel('Epochs')\n",
        "        plt.ylabel('Loss')\n",
        "        plt.title('Loss during Training')\n",
        "        plt.show()\n"
      ],
      "metadata": {
        "id": "wnKBhhoaLRDp"
      },
      "execution_count": 108,
      "outputs": []
    },
    {
      "cell_type": "code",
      "source": [
        "sgd = SGDRegressor(learning_rate=0.01, epochs = 1000)"
      ],
      "metadata": {
        "id": "R6Dw4JesNHTl"
      },
      "execution_count": 109,
      "outputs": []
    },
    {
      "cell_type": "code",
      "source": [
        "sgd.fit(X_train, y_train)"
      ],
      "metadata": {
        "colab": {
          "base_uri": "https://localhost:8080/"
        },
        "id": "KVAzYEU8NTX_",
        "outputId": "058f1136-1ae2-4d12-d490-cbd77be7c5e5"
      },
      "execution_count": 110,
      "outputs": [
        {
          "output_type": "stream",
          "name": "stdout",
          "text": [
            "Epoch 0/1000, Loss: 8862.4645\n",
            "Epoch 10/1000, Loss: 5774.4311\n",
            "Epoch 20/1000, Loss: 6420.7887\n",
            "Epoch 30/1000, Loss: 6429.3173\n",
            "Epoch 40/1000, Loss: 5577.8907\n",
            "Epoch 50/1000, Loss: 6150.7764\n",
            "Epoch 60/1000, Loss: 5669.2514\n",
            "Epoch 70/1000, Loss: 5782.9526\n",
            "Epoch 80/1000, Loss: 5900.6649\n",
            "Epoch 90/1000, Loss: 5470.4580\n",
            "Epoch 100/1000, Loss: 5674.2820\n",
            "Epoch 110/1000, Loss: 5781.1238\n",
            "Epoch 120/1000, Loss: 5605.2425\n",
            "Epoch 130/1000, Loss: 5521.5557\n",
            "Epoch 140/1000, Loss: 5504.2323\n",
            "Epoch 150/1000, Loss: 5735.5080\n",
            "Epoch 160/1000, Loss: 6113.5479\n",
            "Epoch 170/1000, Loss: 6746.4521\n",
            "Epoch 180/1000, Loss: 5537.5175\n",
            "Epoch 190/1000, Loss: 5615.5154\n",
            "Epoch 200/1000, Loss: 5256.3459\n",
            "Epoch 210/1000, Loss: 5673.9606\n",
            "Epoch 220/1000, Loss: 5450.2471\n",
            "Epoch 230/1000, Loss: 6232.3809\n",
            "Epoch 240/1000, Loss: 6204.7238\n",
            "Epoch 250/1000, Loss: 5392.1609\n",
            "Epoch 260/1000, Loss: 5713.2164\n",
            "Epoch 270/1000, Loss: 5703.9055\n",
            "Epoch 280/1000, Loss: 5483.0818\n",
            "Epoch 290/1000, Loss: 5682.0302\n",
            "Epoch 300/1000, Loss: 5906.9505\n",
            "Epoch 310/1000, Loss: 6528.1577\n",
            "Epoch 320/1000, Loss: 5897.3712\n",
            "Epoch 330/1000, Loss: 6007.4376\n",
            "Epoch 340/1000, Loss: 5929.2943\n",
            "Epoch 350/1000, Loss: 5730.3922\n",
            "Epoch 360/1000, Loss: 5826.8058\n",
            "Epoch 370/1000, Loss: 5953.3334\n",
            "Epoch 380/1000, Loss: 5892.4313\n",
            "Epoch 390/1000, Loss: 5681.3170\n",
            "Epoch 400/1000, Loss: 5347.4105\n",
            "Epoch 410/1000, Loss: 5561.1369\n",
            "Epoch 420/1000, Loss: 5896.5790\n",
            "Epoch 430/1000, Loss: 6025.8235\n",
            "Epoch 440/1000, Loss: 5565.6307\n",
            "Epoch 450/1000, Loss: 5983.4361\n",
            "Epoch 460/1000, Loss: 6223.8140\n",
            "Epoch 470/1000, Loss: 5382.6172\n",
            "Epoch 480/1000, Loss: 5646.9341\n",
            "Epoch 490/1000, Loss: 5464.6301\n",
            "Epoch 500/1000, Loss: 5618.7311\n",
            "Epoch 510/1000, Loss: 5472.2495\n",
            "Epoch 520/1000, Loss: 6474.2389\n",
            "Epoch 530/1000, Loss: 5549.8936\n",
            "Epoch 540/1000, Loss: 6012.1978\n",
            "Epoch 550/1000, Loss: 5521.3867\n",
            "Epoch 560/1000, Loss: 6171.9369\n",
            "Epoch 570/1000, Loss: 5041.4033\n",
            "Epoch 580/1000, Loss: 5828.8889\n",
            "Epoch 590/1000, Loss: 6075.9066\n",
            "Epoch 600/1000, Loss: 5852.1994\n",
            "Epoch 610/1000, Loss: 4587.4813\n",
            "Epoch 620/1000, Loss: 6093.7891\n",
            "Epoch 630/1000, Loss: 6158.8877\n",
            "Epoch 640/1000, Loss: 5717.5492\n",
            "Epoch 650/1000, Loss: 6240.7035\n",
            "Epoch 660/1000, Loss: 5709.0871\n",
            "Epoch 670/1000, Loss: 5810.0415\n",
            "Epoch 680/1000, Loss: 5922.5290\n",
            "Epoch 690/1000, Loss: 5330.1956\n",
            "Epoch 700/1000, Loss: 5568.4634\n",
            "Epoch 710/1000, Loss: 5506.5400\n",
            "Epoch 720/1000, Loss: 5946.2281\n",
            "Epoch 730/1000, Loss: 5744.1697\n",
            "Epoch 740/1000, Loss: 5704.7276\n",
            "Epoch 750/1000, Loss: 5712.4807\n",
            "Epoch 760/1000, Loss: 5770.4444\n",
            "Epoch 770/1000, Loss: 5926.4020\n",
            "Epoch 780/1000, Loss: 5207.7883\n",
            "Epoch 790/1000, Loss: 5900.7302\n",
            "Epoch 800/1000, Loss: 5635.0469\n",
            "Epoch 810/1000, Loss: 5740.0315\n",
            "Epoch 820/1000, Loss: 5245.5801\n",
            "Epoch 830/1000, Loss: 5428.0359\n",
            "Epoch 840/1000, Loss: 5597.9972\n",
            "Epoch 850/1000, Loss: 5377.5538\n",
            "Epoch 860/1000, Loss: 5752.0964\n",
            "Epoch 870/1000, Loss: 5660.1805\n",
            "Epoch 880/1000, Loss: 5877.2937\n",
            "Epoch 890/1000, Loss: 4906.5815\n",
            "Epoch 900/1000, Loss: 6218.9748\n",
            "Epoch 910/1000, Loss: 6067.3105\n",
            "Epoch 920/1000, Loss: 5733.4855\n",
            "Epoch 930/1000, Loss: 5605.3700\n",
            "Epoch 940/1000, Loss: 6061.5274\n",
            "Epoch 950/1000, Loss: 5979.1973\n",
            "Epoch 960/1000, Loss: 6293.4421\n",
            "Epoch 970/1000, Loss: 5578.4911\n",
            "Epoch 980/1000, Loss: 5702.6593\n",
            "Epoch 990/1000, Loss: 6155.4457\n"
          ]
        }
      ]
    },
    {
      "cell_type": "code",
      "source": [
        "# Predict new values\n",
        "predictions = sgd.predict(X_test)\n",
        "print(\"Predictions:\", predictions)\n",
        "\n",
        "# Output the learned weights and bias\n",
        "coefs, intercept = sgd.get_params()\n",
        "print(\"Coefs:\", coefs)\n",
        "print(\"Intercept:\", intercept)"
      ],
      "metadata": {
        "colab": {
          "base_uri": "https://localhost:8080/"
        },
        "id": "bZ3upemhNY1R",
        "outputId": "3e825bbd-3817-4e44-ea54-2de73997defb"
      },
      "execution_count": 111,
      "outputs": [
        {
          "output_type": "stream",
          "name": "stdout",
          "text": [
            "Predictions: [151.01177975 153.94100898 150.56721587 147.44429725 156.95971872\n",
            " 156.48720911 146.4848404  147.38552638 145.53494573 153.43826408\n",
            " 152.6868353  152.38568347 153.80902125 151.67713321 156.47389234\n",
            " 146.39538148 152.51630621 148.82850874 150.3305809  150.24107549\n",
            " 147.75047706 155.60419155 153.3460955  153.37986914 148.50503701\n",
            " 156.01821457 153.85065596 149.74417775 144.06582251 158.74902664\n",
            " 157.3296691  148.48745445 144.95910742 148.57237555 154.39830711\n",
            " 152.10818626 152.48508953 154.84897582 147.85666087 156.81008592\n",
            " 149.02876427 149.16399789 153.73373585 153.72677865 151.85710743\n",
            " 150.64584021 152.76595126 159.67656284 148.80370506 155.51004017\n",
            " 156.36495577 147.97441773 149.40333632 152.34320968 153.75863596\n",
            " 148.92723351 153.19999262 145.9689517  151.21440747 149.20212667\n",
            " 151.88561968 153.24882111 147.97620098 153.64098266 151.89246053\n",
            " 152.82239606 149.72027475 153.42325122 147.77744667 151.31109948\n",
            " 153.71618135 152.62169383 147.8422906  150.28319842 149.30561929\n",
            " 147.88616548 145.60785241 146.61913859 152.39641582 146.45641567\n",
            " 146.54068325 147.89680755 150.65361925 158.62172867 153.94587106\n",
            " 149.18555262 156.48057699 152.08074238 148.93779865]\n",
            "Coefs: [  6.31560242   3.27240042  19.38909295  15.75147963   6.43755897\n",
            "   5.3286197  -11.30419615  13.25011027  18.86760741  10.63377156]\n",
            "Intercept: 150.74609629942722\n"
          ]
        }
      ]
    },
    {
      "cell_type": "code",
      "source": [
        "r2_score(y_test, predictions)"
      ],
      "metadata": {
        "colab": {
          "base_uri": "https://localhost:8080/"
        },
        "id": "KOTGqj6OQdWX",
        "outputId": "e9a5d914-5c9f-44cd-de96-880a1615d918"
      },
      "execution_count": 112,
      "outputs": [
        {
          "output_type": "execute_result",
          "data": {
            "text/plain": [
              "0.04408598596054103"
            ]
          },
          "metadata": {},
          "execution_count": 112
        }
      ]
    }
  ]
}