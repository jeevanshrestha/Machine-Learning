{
  "nbformat": 4,
  "nbformat_minor": 0,
  "metadata": {
    "colab": {
      "provenance": [],
      "authorship_tag": "ABX9TyPvJRFxDyv5bAIRXHUO1b4F",
      "include_colab_link": true
    },
    "kernelspec": {
      "name": "python3",
      "display_name": "Python 3"
    },
    "language_info": {
      "name": "python"
    }
  },
  "cells": [
    {
      "cell_type": "markdown",
      "metadata": {
        "id": "view-in-github",
        "colab_type": "text"
      },
      "source": [
        "<a href=\"https://colab.research.google.com/github/jeevanshrestha/Machine-Learning/blob/main/MLR_Custom.ipynb\" target=\"_parent\"><img src=\"https://colab.research.google.com/assets/colab-badge.svg\" alt=\"Open In Colab\"/></a>"
      ]
    },
    {
      "cell_type": "code",
      "execution_count": 1,
      "metadata": {
        "id": "xfvvQM3sLGY8"
      },
      "outputs": [],
      "source": [
        "import numpy as np\n",
        "from sklearn.datasets import load_diabetes"
      ]
    },
    {
      "cell_type": "code",
      "source": [
        "X,y = load_diabetes(return_X_y=True)\n"
      ],
      "metadata": {
        "id": "ANNOEddCLKHG"
      },
      "execution_count": 2,
      "outputs": []
    },
    {
      "cell_type": "code",
      "source": [
        "X"
      ],
      "metadata": {
        "colab": {
          "base_uri": "https://localhost:8080/",
          "height": 0
        },
        "id": "UwQBbp9kLLGd",
        "outputId": "d843f41f-771e-484d-da8a-f68b45710094"
      },
      "execution_count": 3,
      "outputs": [
        {
          "output_type": "execute_result",
          "data": {
            "text/plain": [
              "array([[ 0.03807591,  0.05068012,  0.06169621, ..., -0.00259226,\n",
              "         0.01990749, -0.01764613],\n",
              "       [-0.00188202, -0.04464164, -0.05147406, ..., -0.03949338,\n",
              "        -0.06833155, -0.09220405],\n",
              "       [ 0.08529891,  0.05068012,  0.04445121, ..., -0.00259226,\n",
              "         0.00286131, -0.02593034],\n",
              "       ...,\n",
              "       [ 0.04170844,  0.05068012, -0.01590626, ..., -0.01107952,\n",
              "        -0.04688253,  0.01549073],\n",
              "       [-0.04547248, -0.04464164,  0.03906215, ...,  0.02655962,\n",
              "         0.04452873, -0.02593034],\n",
              "       [-0.04547248, -0.04464164, -0.0730303 , ..., -0.03949338,\n",
              "        -0.00422151,  0.00306441]])"
            ]
          },
          "metadata": {},
          "execution_count": 3
        }
      ]
    },
    {
      "cell_type": "code",
      "source": [
        "y"
      ],
      "metadata": {
        "colab": {
          "base_uri": "https://localhost:8080/",
          "height": 0
        },
        "id": "HfQPbQcaLMZc",
        "outputId": "fd087038-5c8a-4d34-92b3-511fcf3a07a5"
      },
      "execution_count": 4,
      "outputs": [
        {
          "output_type": "execute_result",
          "data": {
            "text/plain": [
              "array([151.,  75., 141., 206., 135.,  97., 138.,  63., 110., 310., 101.,\n",
              "        69., 179., 185., 118., 171., 166., 144.,  97., 168.,  68.,  49.,\n",
              "        68., 245., 184., 202., 137.,  85., 131., 283., 129.,  59., 341.,\n",
              "        87.,  65., 102., 265., 276., 252.,  90., 100.,  55.,  61.,  92.,\n",
              "       259.,  53., 190., 142.,  75., 142., 155., 225.,  59., 104., 182.,\n",
              "       128.,  52.,  37., 170., 170.,  61., 144.,  52., 128.,  71., 163.,\n",
              "       150.,  97., 160., 178.,  48., 270., 202., 111.,  85.,  42., 170.,\n",
              "       200., 252., 113., 143.,  51.,  52., 210.,  65., 141.,  55., 134.,\n",
              "        42., 111.,  98., 164.,  48.,  96.,  90., 162., 150., 279.,  92.,\n",
              "        83., 128., 102., 302., 198.,  95.,  53., 134., 144., 232.,  81.,\n",
              "       104.,  59., 246., 297., 258., 229., 275., 281., 179., 200., 200.,\n",
              "       173., 180.,  84., 121., 161.,  99., 109., 115., 268., 274., 158.,\n",
              "       107.,  83., 103., 272.,  85., 280., 336., 281., 118., 317., 235.,\n",
              "        60., 174., 259., 178., 128.,  96., 126., 288.,  88., 292.,  71.,\n",
              "       197., 186.,  25.,  84.,  96., 195.,  53., 217., 172., 131., 214.,\n",
              "        59.,  70., 220., 268., 152.,  47.,  74., 295., 101., 151., 127.,\n",
              "       237., 225.,  81., 151., 107.,  64., 138., 185., 265., 101., 137.,\n",
              "       143., 141.,  79., 292., 178.,  91., 116.,  86., 122.,  72., 129.,\n",
              "       142.,  90., 158.,  39., 196., 222., 277.,  99., 196., 202., 155.,\n",
              "        77., 191.,  70.,  73.,  49.,  65., 263., 248., 296., 214., 185.,\n",
              "        78.,  93., 252., 150.,  77., 208.,  77., 108., 160.,  53., 220.,\n",
              "       154., 259.,  90., 246., 124.,  67.,  72., 257., 262., 275., 177.,\n",
              "        71.,  47., 187., 125.,  78.,  51., 258., 215., 303., 243.,  91.,\n",
              "       150., 310., 153., 346.,  63.,  89.,  50.,  39., 103., 308., 116.,\n",
              "       145.,  74.,  45., 115., 264.,  87., 202., 127., 182., 241.,  66.,\n",
              "        94., 283.,  64., 102., 200., 265.,  94., 230., 181., 156., 233.,\n",
              "        60., 219.,  80.,  68., 332., 248.,  84., 200.,  55.,  85.,  89.,\n",
              "        31., 129.,  83., 275.,  65., 198., 236., 253., 124.,  44., 172.,\n",
              "       114., 142., 109., 180., 144., 163., 147.,  97., 220., 190., 109.,\n",
              "       191., 122., 230., 242., 248., 249., 192., 131., 237.,  78., 135.,\n",
              "       244., 199., 270., 164.,  72.,  96., 306.,  91., 214.,  95., 216.,\n",
              "       263., 178., 113., 200., 139., 139.,  88., 148.,  88., 243.,  71.,\n",
              "        77., 109., 272.,  60.,  54., 221.,  90., 311., 281., 182., 321.,\n",
              "        58., 262., 206., 233., 242., 123., 167.,  63., 197.,  71., 168.,\n",
              "       140., 217., 121., 235., 245.,  40.,  52., 104., 132.,  88.,  69.,\n",
              "       219.,  72., 201., 110.,  51., 277.,  63., 118.,  69., 273., 258.,\n",
              "        43., 198., 242., 232., 175.,  93., 168., 275., 293., 281.,  72.,\n",
              "       140., 189., 181., 209., 136., 261., 113., 131., 174., 257.,  55.,\n",
              "        84.,  42., 146., 212., 233.,  91., 111., 152., 120.,  67., 310.,\n",
              "        94., 183.,  66., 173.,  72.,  49.,  64.,  48., 178., 104., 132.,\n",
              "       220.,  57.])"
            ]
          },
          "metadata": {},
          "execution_count": 4
        }
      ]
    },
    {
      "cell_type": "markdown",
      "source": [
        "**Using Sklearn's Linear Regression**"
      ],
      "metadata": {
        "id": "yx2r3-HLLRbO"
      }
    },
    {
      "cell_type": "code",
      "source": [
        "from sklearn.model_selection import train_test_split\n",
        "from sklearn.linear_model import LinearRegression\n",
        "from sklearn.metrics import r2_score\n"
      ],
      "metadata": {
        "id": "J93BLZu4LUYc"
      },
      "execution_count": 12,
      "outputs": []
    },
    {
      "cell_type": "code",
      "source": [
        "X_train,X_test,y_train,y_test = train_test_split(X,y,test_size=0.2,random_state=2)\n"
      ],
      "metadata": {
        "id": "j4B7sWLJLWG8"
      },
      "execution_count": 6,
      "outputs": []
    },
    {
      "cell_type": "code",
      "source": [
        "print(X_train.shape)\n",
        "print(X_test.shape)"
      ],
      "metadata": {
        "colab": {
          "base_uri": "https://localhost:8080/",
          "height": 0
        },
        "id": "mK9_KLG-LXKk",
        "outputId": "b147de69-3dc1-40a2-e751-5c45576c6ec0"
      },
      "execution_count": 7,
      "outputs": [
        {
          "output_type": "stream",
          "name": "stdout",
          "text": [
            "(353, 10)\n",
            "(89, 10)\n"
          ]
        }
      ]
    },
    {
      "cell_type": "code",
      "source": [
        "reg = LinearRegression()"
      ],
      "metadata": {
        "id": "OjfrdB5LLYMe"
      },
      "execution_count": 9,
      "outputs": []
    },
    {
      "cell_type": "code",
      "source": [
        "reg.fit(X_train,y_train)\n"
      ],
      "metadata": {
        "colab": {
          "base_uri": "https://localhost:8080/",
          "height": 80
        },
        "id": "k53gzRtRLasU",
        "outputId": "11ab776b-468c-43b8-fcf3-4d8f2b06721b"
      },
      "execution_count": 10,
      "outputs": [
        {
          "output_type": "execute_result",
          "data": {
            "text/plain": [
              "LinearRegression()"
            ],
            "text/html": [
              "<style>#sk-container-id-1 {\n",
              "  /* Definition of color scheme common for light and dark mode */\n",
              "  --sklearn-color-text: black;\n",
              "  --sklearn-color-line: gray;\n",
              "  /* Definition of color scheme for unfitted estimators */\n",
              "  --sklearn-color-unfitted-level-0: #fff5e6;\n",
              "  --sklearn-color-unfitted-level-1: #f6e4d2;\n",
              "  --sklearn-color-unfitted-level-2: #ffe0b3;\n",
              "  --sklearn-color-unfitted-level-3: chocolate;\n",
              "  /* Definition of color scheme for fitted estimators */\n",
              "  --sklearn-color-fitted-level-0: #f0f8ff;\n",
              "  --sklearn-color-fitted-level-1: #d4ebff;\n",
              "  --sklearn-color-fitted-level-2: #b3dbfd;\n",
              "  --sklearn-color-fitted-level-3: cornflowerblue;\n",
              "\n",
              "  /* Specific color for light theme */\n",
              "  --sklearn-color-text-on-default-background: var(--sg-text-color, var(--theme-code-foreground, var(--jp-content-font-color1, black)));\n",
              "  --sklearn-color-background: var(--sg-background-color, var(--theme-background, var(--jp-layout-color0, white)));\n",
              "  --sklearn-color-border-box: var(--sg-text-color, var(--theme-code-foreground, var(--jp-content-font-color1, black)));\n",
              "  --sklearn-color-icon: #696969;\n",
              "\n",
              "  @media (prefers-color-scheme: dark) {\n",
              "    /* Redefinition of color scheme for dark theme */\n",
              "    --sklearn-color-text-on-default-background: var(--sg-text-color, var(--theme-code-foreground, var(--jp-content-font-color1, white)));\n",
              "    --sklearn-color-background: var(--sg-background-color, var(--theme-background, var(--jp-layout-color0, #111)));\n",
              "    --sklearn-color-border-box: var(--sg-text-color, var(--theme-code-foreground, var(--jp-content-font-color1, white)));\n",
              "    --sklearn-color-icon: #878787;\n",
              "  }\n",
              "}\n",
              "\n",
              "#sk-container-id-1 {\n",
              "  color: var(--sklearn-color-text);\n",
              "}\n",
              "\n",
              "#sk-container-id-1 pre {\n",
              "  padding: 0;\n",
              "}\n",
              "\n",
              "#sk-container-id-1 input.sk-hidden--visually {\n",
              "  border: 0;\n",
              "  clip: rect(1px 1px 1px 1px);\n",
              "  clip: rect(1px, 1px, 1px, 1px);\n",
              "  height: 1px;\n",
              "  margin: -1px;\n",
              "  overflow: hidden;\n",
              "  padding: 0;\n",
              "  position: absolute;\n",
              "  width: 1px;\n",
              "}\n",
              "\n",
              "#sk-container-id-1 div.sk-dashed-wrapped {\n",
              "  border: 1px dashed var(--sklearn-color-line);\n",
              "  margin: 0 0.4em 0.5em 0.4em;\n",
              "  box-sizing: border-box;\n",
              "  padding-bottom: 0.4em;\n",
              "  background-color: var(--sklearn-color-background);\n",
              "}\n",
              "\n",
              "#sk-container-id-1 div.sk-container {\n",
              "  /* jupyter's `normalize.less` sets `[hidden] { display: none; }`\n",
              "     but bootstrap.min.css set `[hidden] { display: none !important; }`\n",
              "     so we also need the `!important` here to be able to override the\n",
              "     default hidden behavior on the sphinx rendered scikit-learn.org.\n",
              "     See: https://github.com/scikit-learn/scikit-learn/issues/21755 */\n",
              "  display: inline-block !important;\n",
              "  position: relative;\n",
              "}\n",
              "\n",
              "#sk-container-id-1 div.sk-text-repr-fallback {\n",
              "  display: none;\n",
              "}\n",
              "\n",
              "div.sk-parallel-item,\n",
              "div.sk-serial,\n",
              "div.sk-item {\n",
              "  /* draw centered vertical line to link estimators */\n",
              "  background-image: linear-gradient(var(--sklearn-color-text-on-default-background), var(--sklearn-color-text-on-default-background));\n",
              "  background-size: 2px 100%;\n",
              "  background-repeat: no-repeat;\n",
              "  background-position: center center;\n",
              "}\n",
              "\n",
              "/* Parallel-specific style estimator block */\n",
              "\n",
              "#sk-container-id-1 div.sk-parallel-item::after {\n",
              "  content: \"\";\n",
              "  width: 100%;\n",
              "  border-bottom: 2px solid var(--sklearn-color-text-on-default-background);\n",
              "  flex-grow: 1;\n",
              "}\n",
              "\n",
              "#sk-container-id-1 div.sk-parallel {\n",
              "  display: flex;\n",
              "  align-items: stretch;\n",
              "  justify-content: center;\n",
              "  background-color: var(--sklearn-color-background);\n",
              "  position: relative;\n",
              "}\n",
              "\n",
              "#sk-container-id-1 div.sk-parallel-item {\n",
              "  display: flex;\n",
              "  flex-direction: column;\n",
              "}\n",
              "\n",
              "#sk-container-id-1 div.sk-parallel-item:first-child::after {\n",
              "  align-self: flex-end;\n",
              "  width: 50%;\n",
              "}\n",
              "\n",
              "#sk-container-id-1 div.sk-parallel-item:last-child::after {\n",
              "  align-self: flex-start;\n",
              "  width: 50%;\n",
              "}\n",
              "\n",
              "#sk-container-id-1 div.sk-parallel-item:only-child::after {\n",
              "  width: 0;\n",
              "}\n",
              "\n",
              "/* Serial-specific style estimator block */\n",
              "\n",
              "#sk-container-id-1 div.sk-serial {\n",
              "  display: flex;\n",
              "  flex-direction: column;\n",
              "  align-items: center;\n",
              "  background-color: var(--sklearn-color-background);\n",
              "  padding-right: 1em;\n",
              "  padding-left: 1em;\n",
              "}\n",
              "\n",
              "\n",
              "/* Toggleable style: style used for estimator/Pipeline/ColumnTransformer box that is\n",
              "clickable and can be expanded/collapsed.\n",
              "- Pipeline and ColumnTransformer use this feature and define the default style\n",
              "- Estimators will overwrite some part of the style using the `sk-estimator` class\n",
              "*/\n",
              "\n",
              "/* Pipeline and ColumnTransformer style (default) */\n",
              "\n",
              "#sk-container-id-1 div.sk-toggleable {\n",
              "  /* Default theme specific background. It is overwritten whether we have a\n",
              "  specific estimator or a Pipeline/ColumnTransformer */\n",
              "  background-color: var(--sklearn-color-background);\n",
              "}\n",
              "\n",
              "/* Toggleable label */\n",
              "#sk-container-id-1 label.sk-toggleable__label {\n",
              "  cursor: pointer;\n",
              "  display: block;\n",
              "  width: 100%;\n",
              "  margin-bottom: 0;\n",
              "  padding: 0.5em;\n",
              "  box-sizing: border-box;\n",
              "  text-align: center;\n",
              "}\n",
              "\n",
              "#sk-container-id-1 label.sk-toggleable__label-arrow:before {\n",
              "  /* Arrow on the left of the label */\n",
              "  content: \"▸\";\n",
              "  float: left;\n",
              "  margin-right: 0.25em;\n",
              "  color: var(--sklearn-color-icon);\n",
              "}\n",
              "\n",
              "#sk-container-id-1 label.sk-toggleable__label-arrow:hover:before {\n",
              "  color: var(--sklearn-color-text);\n",
              "}\n",
              "\n",
              "/* Toggleable content - dropdown */\n",
              "\n",
              "#sk-container-id-1 div.sk-toggleable__content {\n",
              "  max-height: 0;\n",
              "  max-width: 0;\n",
              "  overflow: hidden;\n",
              "  text-align: left;\n",
              "  /* unfitted */\n",
              "  background-color: var(--sklearn-color-unfitted-level-0);\n",
              "}\n",
              "\n",
              "#sk-container-id-1 div.sk-toggleable__content.fitted {\n",
              "  /* fitted */\n",
              "  background-color: var(--sklearn-color-fitted-level-0);\n",
              "}\n",
              "\n",
              "#sk-container-id-1 div.sk-toggleable__content pre {\n",
              "  margin: 0.2em;\n",
              "  border-radius: 0.25em;\n",
              "  color: var(--sklearn-color-text);\n",
              "  /* unfitted */\n",
              "  background-color: var(--sklearn-color-unfitted-level-0);\n",
              "}\n",
              "\n",
              "#sk-container-id-1 div.sk-toggleable__content.fitted pre {\n",
              "  /* unfitted */\n",
              "  background-color: var(--sklearn-color-fitted-level-0);\n",
              "}\n",
              "\n",
              "#sk-container-id-1 input.sk-toggleable__control:checked~div.sk-toggleable__content {\n",
              "  /* Expand drop-down */\n",
              "  max-height: 200px;\n",
              "  max-width: 100%;\n",
              "  overflow: auto;\n",
              "}\n",
              "\n",
              "#sk-container-id-1 input.sk-toggleable__control:checked~label.sk-toggleable__label-arrow:before {\n",
              "  content: \"▾\";\n",
              "}\n",
              "\n",
              "/* Pipeline/ColumnTransformer-specific style */\n",
              "\n",
              "#sk-container-id-1 div.sk-label input.sk-toggleable__control:checked~label.sk-toggleable__label {\n",
              "  color: var(--sklearn-color-text);\n",
              "  background-color: var(--sklearn-color-unfitted-level-2);\n",
              "}\n",
              "\n",
              "#sk-container-id-1 div.sk-label.fitted input.sk-toggleable__control:checked~label.sk-toggleable__label {\n",
              "  background-color: var(--sklearn-color-fitted-level-2);\n",
              "}\n",
              "\n",
              "/* Estimator-specific style */\n",
              "\n",
              "/* Colorize estimator box */\n",
              "#sk-container-id-1 div.sk-estimator input.sk-toggleable__control:checked~label.sk-toggleable__label {\n",
              "  /* unfitted */\n",
              "  background-color: var(--sklearn-color-unfitted-level-2);\n",
              "}\n",
              "\n",
              "#sk-container-id-1 div.sk-estimator.fitted input.sk-toggleable__control:checked~label.sk-toggleable__label {\n",
              "  /* fitted */\n",
              "  background-color: var(--sklearn-color-fitted-level-2);\n",
              "}\n",
              "\n",
              "#sk-container-id-1 div.sk-label label.sk-toggleable__label,\n",
              "#sk-container-id-1 div.sk-label label {\n",
              "  /* The background is the default theme color */\n",
              "  color: var(--sklearn-color-text-on-default-background);\n",
              "}\n",
              "\n",
              "/* On hover, darken the color of the background */\n",
              "#sk-container-id-1 div.sk-label:hover label.sk-toggleable__label {\n",
              "  color: var(--sklearn-color-text);\n",
              "  background-color: var(--sklearn-color-unfitted-level-2);\n",
              "}\n",
              "\n",
              "/* Label box, darken color on hover, fitted */\n",
              "#sk-container-id-1 div.sk-label.fitted:hover label.sk-toggleable__label.fitted {\n",
              "  color: var(--sklearn-color-text);\n",
              "  background-color: var(--sklearn-color-fitted-level-2);\n",
              "}\n",
              "\n",
              "/* Estimator label */\n",
              "\n",
              "#sk-container-id-1 div.sk-label label {\n",
              "  font-family: monospace;\n",
              "  font-weight: bold;\n",
              "  display: inline-block;\n",
              "  line-height: 1.2em;\n",
              "}\n",
              "\n",
              "#sk-container-id-1 div.sk-label-container {\n",
              "  text-align: center;\n",
              "}\n",
              "\n",
              "/* Estimator-specific */\n",
              "#sk-container-id-1 div.sk-estimator {\n",
              "  font-family: monospace;\n",
              "  border: 1px dotted var(--sklearn-color-border-box);\n",
              "  border-radius: 0.25em;\n",
              "  box-sizing: border-box;\n",
              "  margin-bottom: 0.5em;\n",
              "  /* unfitted */\n",
              "  background-color: var(--sklearn-color-unfitted-level-0);\n",
              "}\n",
              "\n",
              "#sk-container-id-1 div.sk-estimator.fitted {\n",
              "  /* fitted */\n",
              "  background-color: var(--sklearn-color-fitted-level-0);\n",
              "}\n",
              "\n",
              "/* on hover */\n",
              "#sk-container-id-1 div.sk-estimator:hover {\n",
              "  /* unfitted */\n",
              "  background-color: var(--sklearn-color-unfitted-level-2);\n",
              "}\n",
              "\n",
              "#sk-container-id-1 div.sk-estimator.fitted:hover {\n",
              "  /* fitted */\n",
              "  background-color: var(--sklearn-color-fitted-level-2);\n",
              "}\n",
              "\n",
              "/* Specification for estimator info (e.g. \"i\" and \"?\") */\n",
              "\n",
              "/* Common style for \"i\" and \"?\" */\n",
              "\n",
              ".sk-estimator-doc-link,\n",
              "a:link.sk-estimator-doc-link,\n",
              "a:visited.sk-estimator-doc-link {\n",
              "  float: right;\n",
              "  font-size: smaller;\n",
              "  line-height: 1em;\n",
              "  font-family: monospace;\n",
              "  background-color: var(--sklearn-color-background);\n",
              "  border-radius: 1em;\n",
              "  height: 1em;\n",
              "  width: 1em;\n",
              "  text-decoration: none !important;\n",
              "  margin-left: 1ex;\n",
              "  /* unfitted */\n",
              "  border: var(--sklearn-color-unfitted-level-1) 1pt solid;\n",
              "  color: var(--sklearn-color-unfitted-level-1);\n",
              "}\n",
              "\n",
              ".sk-estimator-doc-link.fitted,\n",
              "a:link.sk-estimator-doc-link.fitted,\n",
              "a:visited.sk-estimator-doc-link.fitted {\n",
              "  /* fitted */\n",
              "  border: var(--sklearn-color-fitted-level-1) 1pt solid;\n",
              "  color: var(--sklearn-color-fitted-level-1);\n",
              "}\n",
              "\n",
              "/* On hover */\n",
              "div.sk-estimator:hover .sk-estimator-doc-link:hover,\n",
              ".sk-estimator-doc-link:hover,\n",
              "div.sk-label-container:hover .sk-estimator-doc-link:hover,\n",
              ".sk-estimator-doc-link:hover {\n",
              "  /* unfitted */\n",
              "  background-color: var(--sklearn-color-unfitted-level-3);\n",
              "  color: var(--sklearn-color-background);\n",
              "  text-decoration: none;\n",
              "}\n",
              "\n",
              "div.sk-estimator.fitted:hover .sk-estimator-doc-link.fitted:hover,\n",
              ".sk-estimator-doc-link.fitted:hover,\n",
              "div.sk-label-container:hover .sk-estimator-doc-link.fitted:hover,\n",
              ".sk-estimator-doc-link.fitted:hover {\n",
              "  /* fitted */\n",
              "  background-color: var(--sklearn-color-fitted-level-3);\n",
              "  color: var(--sklearn-color-background);\n",
              "  text-decoration: none;\n",
              "}\n",
              "\n",
              "/* Span, style for the box shown on hovering the info icon */\n",
              ".sk-estimator-doc-link span {\n",
              "  display: none;\n",
              "  z-index: 9999;\n",
              "  position: relative;\n",
              "  font-weight: normal;\n",
              "  right: .2ex;\n",
              "  padding: .5ex;\n",
              "  margin: .5ex;\n",
              "  width: min-content;\n",
              "  min-width: 20ex;\n",
              "  max-width: 50ex;\n",
              "  color: var(--sklearn-color-text);\n",
              "  box-shadow: 2pt 2pt 4pt #999;\n",
              "  /* unfitted */\n",
              "  background: var(--sklearn-color-unfitted-level-0);\n",
              "  border: .5pt solid var(--sklearn-color-unfitted-level-3);\n",
              "}\n",
              "\n",
              ".sk-estimator-doc-link.fitted span {\n",
              "  /* fitted */\n",
              "  background: var(--sklearn-color-fitted-level-0);\n",
              "  border: var(--sklearn-color-fitted-level-3);\n",
              "}\n",
              "\n",
              ".sk-estimator-doc-link:hover span {\n",
              "  display: block;\n",
              "}\n",
              "\n",
              "/* \"?\"-specific style due to the `<a>` HTML tag */\n",
              "\n",
              "#sk-container-id-1 a.estimator_doc_link {\n",
              "  float: right;\n",
              "  font-size: 1rem;\n",
              "  line-height: 1em;\n",
              "  font-family: monospace;\n",
              "  background-color: var(--sklearn-color-background);\n",
              "  border-radius: 1rem;\n",
              "  height: 1rem;\n",
              "  width: 1rem;\n",
              "  text-decoration: none;\n",
              "  /* unfitted */\n",
              "  color: var(--sklearn-color-unfitted-level-1);\n",
              "  border: var(--sklearn-color-unfitted-level-1) 1pt solid;\n",
              "}\n",
              "\n",
              "#sk-container-id-1 a.estimator_doc_link.fitted {\n",
              "  /* fitted */\n",
              "  border: var(--sklearn-color-fitted-level-1) 1pt solid;\n",
              "  color: var(--sklearn-color-fitted-level-1);\n",
              "}\n",
              "\n",
              "/* On hover */\n",
              "#sk-container-id-1 a.estimator_doc_link:hover {\n",
              "  /* unfitted */\n",
              "  background-color: var(--sklearn-color-unfitted-level-3);\n",
              "  color: var(--sklearn-color-background);\n",
              "  text-decoration: none;\n",
              "}\n",
              "\n",
              "#sk-container-id-1 a.estimator_doc_link.fitted:hover {\n",
              "  /* fitted */\n",
              "  background-color: var(--sklearn-color-fitted-level-3);\n",
              "}\n",
              "</style><div id=\"sk-container-id-1\" class=\"sk-top-container\"><div class=\"sk-text-repr-fallback\"><pre>LinearRegression()</pre><b>In a Jupyter environment, please rerun this cell to show the HTML representation or trust the notebook. <br />On GitHub, the HTML representation is unable to render, please try loading this page with nbviewer.org.</b></div><div class=\"sk-container\" hidden><div class=\"sk-item\"><div class=\"sk-estimator fitted sk-toggleable\"><input class=\"sk-toggleable__control sk-hidden--visually\" id=\"sk-estimator-id-1\" type=\"checkbox\" checked><label for=\"sk-estimator-id-1\" class=\"sk-toggleable__label fitted sk-toggleable__label-arrow fitted\">&nbsp;&nbsp;LinearRegression<a class=\"sk-estimator-doc-link fitted\" rel=\"noreferrer\" target=\"_blank\" href=\"https://scikit-learn.org/1.5/modules/generated/sklearn.linear_model.LinearRegression.html\">?<span>Documentation for LinearRegression</span></a><span class=\"sk-estimator-doc-link fitted\">i<span>Fitted</span></span></label><div class=\"sk-toggleable__content fitted\"><pre>LinearRegression()</pre></div> </div></div></div></div>"
            ]
          },
          "metadata": {},
          "execution_count": 10
        }
      ]
    },
    {
      "cell_type": "code",
      "source": [
        "y_pred = reg.predict(X_test)\n"
      ],
      "metadata": {
        "id": "R2tbXfUHLbp8"
      },
      "execution_count": 11,
      "outputs": []
    },
    {
      "cell_type": "code",
      "source": [
        "r2_score(y_test,y_pred)\n"
      ],
      "metadata": {
        "colab": {
          "base_uri": "https://localhost:8080/",
          "height": 0
        },
        "id": "n8fFwBnFLdJk",
        "outputId": "cca37018-0e8a-453e-e6eb-27a206c290b1"
      },
      "execution_count": 13,
      "outputs": [
        {
          "output_type": "execute_result",
          "data": {
            "text/plain": [
              "0.4399338661568968"
            ]
          },
          "metadata": {},
          "execution_count": 13
        }
      ]
    },
    {
      "cell_type": "code",
      "source": [
        "reg.coef_\n"
      ],
      "metadata": {
        "colab": {
          "base_uri": "https://localhost:8080/",
          "height": 0
        },
        "id": "D4CtiuouLfY0",
        "outputId": "f6e678c0-3cfc-4b53-be97-5ae74b89e80a"
      },
      "execution_count": 14,
      "outputs": [
        {
          "output_type": "execute_result",
          "data": {
            "text/plain": [
              "array([  -9.15865318, -205.45432163,  516.69374454,  340.61999905,\n",
              "       -895.5520019 ,  561.22067904,  153.89310954,  126.73139688,\n",
              "        861.12700152,   52.42112238])"
            ]
          },
          "metadata": {},
          "execution_count": 14
        }
      ]
    },
    {
      "cell_type": "code",
      "source": [
        "reg.intercept_\n"
      ],
      "metadata": {
        "colab": {
          "base_uri": "https://localhost:8080/",
          "height": 0
        },
        "id": "1EGB5__ALgoM",
        "outputId": "751c495e-3c1d-452e-ed9b-ccfc2ed73bde"
      },
      "execution_count": 15,
      "outputs": [
        {
          "output_type": "execute_result",
          "data": {
            "text/plain": [
              "151.88331005254167"
            ]
          },
          "metadata": {},
          "execution_count": 15
        }
      ]
    },
    {
      "cell_type": "code",
      "source": [],
      "metadata": {
        "id": "ZVzuAfPPLh6s"
      },
      "execution_count": null,
      "outputs": []
    },
    {
      "cell_type": "markdown",
      "source": [
        "**Making our own Linear Regression Class**"
      ],
      "metadata": {
        "id": "5mfzD5C-LkMO"
      }
    },
    {
      "cell_type": "code",
      "source": [],
      "metadata": {
        "id": "lCm8tH4zM8Zm"
      },
      "execution_count": null,
      "outputs": []
    },
    {
      "cell_type": "markdown",
      "source": [
        "![Screenshot 2024-12-17 122105.png](data:image/png;base64,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)"
      ],
      "metadata": {
        "id": "H9riARUgM9eu"
      }
    },
    {
      "cell_type": "code",
      "source": [
        "class CustomMLR:\n",
        "\n",
        "  def __init__(self):\n",
        "    self.coef_ = None\n",
        "    self.intercept_ = None\n",
        "\n",
        "  def fit(self, X_train, y_train):\n",
        "    X_train = np.insert(X_train, 0 ,1, axis =1)\n",
        "\n",
        "    #calcualte the coeffs\n",
        "    betas = np.linalg.inv(np.dot(X_train.T, X_train)).dot(X_train.T).dot(y_train)\n",
        "\n",
        "    self.intercept_ = betas[0]\n",
        "    self.coef_ = betas[1:]\n",
        "\n",
        "  def predict(self, X_test):\n",
        "    y_pred = np.dot(X_test, self.coef_) + self.intercept_\n",
        "    return y_pred"
      ],
      "metadata": {
        "id": "CGIrObECLnbE"
      },
      "execution_count": 25,
      "outputs": []
    },
    {
      "cell_type": "code",
      "source": [
        "lr = CustomMLR()"
      ],
      "metadata": {
        "id": "7qBUHv16NbF-"
      },
      "execution_count": 26,
      "outputs": []
    },
    {
      "cell_type": "code",
      "source": [
        "lr.fit(X_train, y_train)"
      ],
      "metadata": {
        "id": "hmz84OKjNeVs"
      },
      "execution_count": 27,
      "outputs": []
    },
    {
      "cell_type": "code",
      "source": [
        "y_pred = lr.predict(X_test)"
      ],
      "metadata": {
        "id": "GcOrOOjMNlAE"
      },
      "execution_count": 28,
      "outputs": []
    },
    {
      "cell_type": "code",
      "source": [
        "y_pred"
      ],
      "metadata": {
        "colab": {
          "base_uri": "https://localhost:8080/"
        },
        "id": "WmayBIGXNrnc",
        "outputId": "7870ef18-d6b1-4440-d091-97eb53fdac58"
      },
      "execution_count": 29,
      "outputs": [
        {
          "output_type": "execute_result",
          "data": {
            "text/plain": [
              "array([154.1213881 , 204.81835118, 124.93755353, 106.08950893,\n",
              "       258.5348576 , 256.3310074 , 118.75087616, 119.52440696,\n",
              "       101.50816735, 190.54048661, 141.70656811, 172.51883961,\n",
              "       174.33861649, 134.80942706, 294.13994537,  94.11798038,\n",
              "       211.97059795, 156.49579378, 134.21000428, 119.62664644,\n",
              "       148.87842251, 165.00873409, 151.10021038, 176.04063756,\n",
              "       133.27769647, 221.29555392, 197.17324941,  96.1577688 ,\n",
              "        50.26012711, 230.48580317, 242.06073866, 114.11129218,\n",
              "        67.07532417,  94.52943825, 201.21415375, 167.05136201,\n",
              "       159.881268  , 192.78746659, 114.49551325, 233.48234551,\n",
              "       140.82563045, 121.0680409 , 192.27480772, 191.12738845,\n",
              "       179.16865788, 148.34935601, 163.47414622, 276.81647884,\n",
              "       100.17926432, 164.10555298, 255.80762189, 136.9466204 ,\n",
              "       152.37503699, 107.92237882, 194.21924678,  77.34670792,\n",
              "       118.50482479,  68.38335763, 154.29258529, 162.48840259,\n",
              "       168.36788326, 156.87790322,  97.14191797, 238.1671215 ,\n",
              "       145.46179904, 117.65702433, 168.88784311, 198.38683887,\n",
              "       118.24053714, 124.64552812, 223.17700368, 200.63012386,\n",
              "       129.54414666, 158.1584765 , 154.332565  , 114.47070769,\n",
              "        70.44906407,  76.3973879 , 172.41584591,  80.56270077,\n",
              "        80.2722834 ,  89.46150248, 186.21572052, 275.46275403,\n",
              "       208.26784222, 143.79451509, 291.28766846, 206.32474844,\n",
              "        94.22935404])"
            ]
          },
          "metadata": {},
          "execution_count": 29
        }
      ]
    },
    {
      "cell_type": "code",
      "source": [
        "lr.coef_"
      ],
      "metadata": {
        "colab": {
          "base_uri": "https://localhost:8080/"
        },
        "id": "M2FkcZX0N11s",
        "outputId": "5a275199-cf3c-4f4c-e5bb-c39b4ab5de02"
      },
      "execution_count": 30,
      "outputs": [
        {
          "output_type": "execute_result",
          "data": {
            "text/plain": [
              "array([  -9.15865318, -205.45432163,  516.69374454,  340.61999905,\n",
              "       -895.5520019 ,  561.22067904,  153.89310954,  126.73139688,\n",
              "        861.12700152,   52.42112238])"
            ]
          },
          "metadata": {},
          "execution_count": 30
        }
      ]
    },
    {
      "cell_type": "code",
      "source": [
        "lr.intercept_"
      ],
      "metadata": {
        "colab": {
          "base_uri": "https://localhost:8080/"
        },
        "id": "FjEfu06IN4dE",
        "outputId": "4bd45f63-a046-4bfd-b28c-e47cb1e24eed"
      },
      "execution_count": 31,
      "outputs": [
        {
          "output_type": "execute_result",
          "data": {
            "text/plain": [
              "151.88331005254165"
            ]
          },
          "metadata": {},
          "execution_count": 31
        }
      ]
    }
  ]
}